{
 "cells": [
  {
   "cell_type": "markdown",
   "metadata": {},
   "source": [
    "# A minimal standard for interoperable Schemas"
   ]
  },
  {
   "cell_type": "markdown",
   "metadata": {},
   "source": [
    "The minimal standard is defined as a Protocol, with some Abstract Base Classes."
   ]
  },
  {
   "cell_type": "code",
   "execution_count": 1,
   "metadata": {},
   "outputs": [],
   "source": [
    "import abc\n",
    "import typing\n",
    "import collections.abc\n",
    "import enum"
   ]
  },
  {
   "cell_type": "markdown",
   "metadata": {},
   "source": [
    "First, an entirely optional, a class providing a protocol to associate a Schema with a class, without constraining to much how things are composed. We only mandate that if a Schema is assigned to a subclass of `SchemedObject`, the Schema can be retrieved by `.__get_schema__()`. "
   ]
  },
  {
   "cell_type": "code",
   "execution_count": 2,
   "metadata": {},
   "outputs": [],
   "source": [
    "class SchemedObject(metaclass=abc.ABCMeta):\n",
    "    \"\"\" An object with a Schema, supporting the __get_schema__ method.\n",
    "    \"\"\"\n",
    "\n",
    "    @classmethod\n",
    "    @abc.abstractmethod    \n",
    "    def __get_schema__(cls) -> 'AbstractSchema':\n",
    "        pass"
   ]
  },
  {
   "cell_type": "markdown",
   "metadata": {},
   "source": [
    "To standardize on representations into which we serialize, we enumerate a few, so we can use them as enum. "
   ]
  },
  {
   "cell_type": "code",
   "execution_count": 3,
   "metadata": {},
   "outputs": [],
   "source": [
    "class WellknownRepresentation(enum.Enum):\n",
    "\n",
    "    python  = '__python__' # internal python structures\n",
    "    pickle  = 'application/python-pickle'\n",
    "    json    = 'application/json'\n",
    "    xml     = 'application/xml'\n",
    "    sql     = 'application/sql'\n",
    "    html    = 'text/html'"
   ]
  },
  {
   "cell_type": "markdown",
   "metadata": {},
   "source": [
    "The minimal protocol for a Schema defines it as an Iterable, yielding Schema Elements, having a set of representations it supports, and methods to convert to and from external representations. \n",
    "\n",
    "We want the Schema to be useful for type declarations, so `.as_annotations()` and `.as_field_annotations()` return dictionaries usable as `__annotations__` in a class. Unfortunately, the Python `typing` module assumes `__annotations__` to be a dictionary, instead of allowing a callable returing annotations, so I don't think this can be done elegantly. "
   ]
  },
  {
   "cell_type": "code",
   "execution_count": 4,
   "metadata": {},
   "outputs": [],
   "source": [
    "class AbstractSchema(collections.abc.Iterable,metaclass=abc.ABCMeta):\n",
    "    \"\"\" The AbstractSchema does not prescribe how the Schema is organizred, and\n",
    "        only prescribes that the AbstractSchemaElement may be obtained by iterating\n",
    "        over the Schema.\n",
    "    \"\"\"\n",
    "    SupportedRepresentations: typing.ClassVar[typing.Set['WellknownRepresentation']] = {WellknownRepresentation.python}\n",
    "\n",
    "    @abc.abstractmethod\n",
    "    def to_external(self, obj : SchemedObject, destination : WellknownRepresentation, writer_callback : typing.Optional[typing.Callable]=None, **params) -> typing.Optional[typing.Any]:\n",
    "        \"\"\"\n",
    "            If *writer_callback* is None (the default), the external representation\n",
    "            is returned as result.\n",
    "\n",
    "            If *writer_callback* is not None, then it can be called any number\n",
    "            of times with some arguments. No result is returned.\n",
    "\n",
    "            (inspired by PEP-574 https://www.python.org/dev/peps/pep-0574/#producer-api)\n",
    "        \"\"\"\n",
    "        pass\n",
    "\n",
    "\n",
    "    @abc.abstractmethod\n",
    "    def from_external(self,external : typing.Union[typing.Any,typing.Callable], source : WellknownRepresentation, **params ) -> SchemedObject:\n",
    "\n",
    "        \"\"\"\n",
    "            If *external* is bytes, they are consumed as source representation.\n",
    "\n",
    "            If *external* is a Callable, then it can be called any number\n",
    "            of times with some arguments to obtain parts of the source representation.\n",
    "\n",
    "        \"\"\"\n",
    "        pass\n",
    "\n",
    "    @abc.abstractmethod\n",
    "    def validate_internal(self, obj : SchemedObject, **params, ) -> SchemedObject:\n",
    "        pass\n",
    "\n",
    "    @abc.abstractmethod\n",
    "    def __iter__(self) -> typing.Iterator['AbstractSchemaElement'] :\n",
    "        \"\"\" iterator through SchemaElements in this Schema \"\"\"\n",
    "        pass\n",
    "\n",
    "    def as_annotations(self) -> typing.Dict[str,type]:\n",
    "        \"\"\" return Schema Elements in annotation format.\n",
    "            Use as class.__annotations__ = schema.as_annotations()\n",
    "            I would wish that __annotations__ is a protocol that can be provided, instead of simply assuming it is a mapping. \n",
    "        \"\"\"\n",
    "        return {se.get_name() : se.get_python_type() for se in self}\n",
    "\n",
    "    def as_field_annotations(self) -> typing.Dict[str,type]:\n",
    "        \"\"\" return Schema Elements in DataClass field annotation format.\n",
    "            Use as class.__annotations__ = schema.as_field_annotations().\n",
    "\n",
    "            Equivalent to as_annotations unless refined in a subclass, \n",
    "        \"\"\"\n",
    "        return self.as_field_annotations() \n",
    "\n"
   ]
  },
  {
   "cell_type": "markdown",
   "metadata": {},
   "source": [
    "We finish the minimal protocol by defining a Schema Element. It supports a back reference to its Schema, and two methods to get the Schema Element's name and its Python type (for interoperability with Python static typing). "
   ]
  },
  {
   "cell_type": "code",
   "execution_count": 5,
   "metadata": {},
   "outputs": [],
   "source": [
    "class AbstractSchemaElement(metaclass=abc.ABCMeta):\n",
    "\n",
    "\n",
    "    @abc.abstractmethod\n",
    "    def get_schema(self) -> typing.Optional[AbstractSchema]:\n",
    "        \"\"\" get associated schema or None \"\"\"\n",
    "        pass\n",
    "\n",
    "    @abc.abstractmethod\n",
    "    def get_python_type(self) -> type:\n",
    "        \"\"\" get Python type of this AbstractSchemaElement \"\"\"\n",
    "        pass\n",
    "\n",
    "    @abc.abstractmethod\n",
    "    def get_name(self) -> str:\n",
    "        \"\"\" get name useable as variable name \"\"\"\n",
    "        pass"
   ]
  },
  {
   "cell_type": "code",
   "execution_count": null,
   "metadata": {},
   "outputs": [],
   "source": []
  }
 ],
 "metadata": {
  "kernelspec": {
   "display_name": "Python 3",
   "language": "python",
   "name": "python3"
  },
  "language_info": {
   "codemirror_mode": {
    "name": "ipython",
    "version": 3
   },
   "file_extension": ".py",
   "mimetype": "text/x-python",
   "name": "python",
   "nbconvert_exporter": "python",
   "pygments_lexer": "ipython3",
   "version": "3.7.2"
  }
 },
 "nbformat": 4,
 "nbformat_minor": 2
}
