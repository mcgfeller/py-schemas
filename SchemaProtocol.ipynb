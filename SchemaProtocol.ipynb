{
 "cells": [
  {
   "cell_type": "markdown",
   "metadata": {},
   "source": [
    "# A minimal standard for interoperable Schemas"
   ]
  },
  {
   "cell_type": "markdown",
   "metadata": {},
   "source": [
    "The **minimal standard** is defined as a Protocol, with some Abstract Base Classes. The protocol is minimal in that it provides for the most common [Use Cases](https://github.com/mcgfeller/py-schemas/blob/master/UseCases.md):\n",
    "* Serialization to an external representation\n",
    "* Deserialization from an external representation\n",
    "* Validation\n",
    "* Attach a Schema to an object class\n",
    "* Obtaining Schema elements\n",
    "* Static type checking\n",
    "  * Get the Python type of a schema element \n",
    "* Minimal Schema transformation:\n",
    "  * Get [dataclasses.Field](https://docs.python.org/3/library/dataclasses.html#dataclasses.Field) of a schema element\n",
    "  * Construct a a Schema element from dataclasses.Field\n",
    "  * Construct a Schema from another Schema (from another Schema solution) by going through dataclasses.Field for each element. \n",
    "* Associate data with Schema\n",
    "\n",
    "*The protocol doesn't provide a standard representation for Schemas or Schema Elements; it only provides standard access and use.* It does provide minimal conversion of arbitrary Schema features between schema libraries, as it provides conversion to Python static types and [dataclasses.Field](https://docs.python.org/3/library/dataclasses.html#dataclasses.Field). See [Alternatives considered](alternatives.md).\n",
    "\n",
    "Using the Protocol for a single schema library, such as **[Marshmallow](https://marshmallow.readthedocs.io/en/latest/)**, does not provide facilities superior to native usage. However, if the protocol is implemented by several libraries, integration of libraries using different schema facilities becomes much easier. The [Marshmallow ecosystem](https://github.com/marshmallow-code/marshmallow/wiki/Ecosystem) lists a few integrations to other libraries using Schemas (JSON, dataclasses, SQL Alchemy), each being a once-off ad-hoc solution.\n"
   ]
  },
  {
   "cell_type": "code",
   "execution_count": 1,
   "metadata": {},
   "outputs": [],
   "source": [
    "import abc\n",
    "import typing\n",
    "import collections.abc\n",
    "import enum\n",
    "import dataclasses"
   ]
  },
  {
   "cell_type": "markdown",
   "metadata": {},
   "source": [
    "First, an entirely optional, a class providing a protocol to associate a Schema with a class, without constraining too much how things are composed. We only mandate that if a Schema is assigned to a subclass of `SchemedObject`, the Schema can be retrieved by `.__get_schema__()`. "
   ]
  },
  {
   "cell_type": "code",
   "execution_count": 2,
   "metadata": {},
   "outputs": [],
   "source": [
    "class SchemedObject(metaclass=abc.ABCMeta):\n",
    "    \"\"\" An object with a Schema, supporting the __get_schema__ method.\n",
    "    \"\"\"\n",
    "\n",
    "    @classmethod\n",
    "    @abc.abstractmethod    \n",
    "    def __get_schema__(cls) -> 'AbstractSchema':\n",
    "        pass"
   ]
  },
  {
   "cell_type": "markdown",
   "metadata": {},
   "source": [
    "To standardize on representations into which we serialize, we enumerate a few, so we can use them as enum. "
   ]
  },
  {
   "cell_type": "code",
   "execution_count": 3,
   "metadata": {},
   "outputs": [],
   "source": [
    "class WellknownRepresentation(enum.Enum):\n",
    "\n",
    "    python  = '__python__' # internal python structures\n",
    "    pickle  = 'application/python-pickle'\n",
    "    json    = 'application/json'\n",
    "    xml     = 'application/xml'\n",
    "    sql     = 'application/sql'\n",
    "    html    = 'text/html'"
   ]
  },
  {
   "cell_type": "markdown",
   "metadata": {},
   "source": [
    "The minimal protocol for a Schema defines it as an Iterable, yielding Schema Elements, having a set of representations it supports, and methods to convert to and from external representations. \n",
    "\n",
    "We want the Schema to be useful for type declarations, so `.get_annotations()` and `.as_field_annotations()` return dictionaries usable as `__annotations__` in a class. Unfortunately, the Python `typing` module assumes `__annotations__` to be a dictionary, instead of allowing a callable returning annotations, so I don't think this can be done more elegantly. \n",
    "\n",
    "We also have a `.get_metadata()` method defined both on the Schema and the Schema Element. Metadata is not used at all by the Schema, and is provided as a third-party extension mechanism. Multiple third-parties can each have their own key, to use as a namespace in the metadata. This is similar to and taken from [dataclasses.Field](https://docs.python.org/3/library/dataclasses.html#dataclasses.field).\n",
    "\n",
    "The `writer_callback` argument in `.to_external()` and the `external` in `.from_external()` are inspired by the consumer API of [PEP-574](https://www.python.org/dev/peps/pep-0574/#consumer-api). The support arbitrary callables to receive or source the external representation, respectively; if not supplied, the external representation is returned or input as a string argument, respectively. \n",
    "\n",
    "The optional methods `.from_schema()` and `.add_element()` support the creation of a Schema and adding elements from another Schema (from another solution). They must not assume any representation of the source schema, apart from the one exposed in this protocol. "
   ]
  },
  {
   "cell_type": "code",
   "execution_count": 4,
   "metadata": {},
   "outputs": [],
   "source": [
    "class AbstractSchema(collections.abc.Iterable, metaclass=abc.ABCMeta):\n",
    "    \"\"\" The AbstractSchema does not prescribe how the Schema is organized, and\n",
    "        only prescribes that the AbstractSchemaElement may be obtained by iterating\n",
    "        over the Schema.\n",
    "    \"\"\"\n",
    "\n",
    "    SupportedRepresentations: typing.ClassVar[typing.Set[\"WellknownRepresentation\"]] = {\n",
    "        WellknownRepresentation.python\n",
    "    }\n",
    "\n",
    "    @abc.abstractmethod\n",
    "    def to_external(\n",
    "        self,\n",
    "        obj: SchemedObject,\n",
    "        destination: WellknownRepresentation,\n",
    "        writer_callback: typing.Optional[typing.Callable] = None,\n",
    "        **params,\n",
    "    ) -> typing.Optional[typing.Any]:\n",
    "        \"\"\"\n",
    "            If *writer_callback* is None (the default), the external representation\n",
    "            is returned as result.\n",
    "\n",
    "            If *writer_callback* is not None, then it can be called any number\n",
    "            of times with some arguments. No result is returned.\n",
    "\n",
    "            (inspired by PEP-574 https://www.python.org/dev/peps/pep-0574/#producer-api)\n",
    "        \"\"\"\n",
    "        pass\n",
    "\n",
    "    @abc.abstractmethod\n",
    "    def from_external(\n",
    "        self,\n",
    "        external: typing.Union[typing.Any, typing.Callable],\n",
    "        source: WellknownRepresentation,\n",
    "        **params,\n",
    "    ) -> SchemedObject:\n",
    "\n",
    "        \"\"\"\n",
    "            If *external* is bytes, they are consumed as source representation.\n",
    "\n",
    "            If *external* is a Callable, then it can be called any number\n",
    "            of times with some arguments to obtain parts of the source representation.\n",
    "\n",
    "        \"\"\"\n",
    "        pass\n",
    "\n",
    "    @abc.abstractmethod\n",
    "    def validate_internal(self, obj: SchemedObject, **params) -> SchemedObject:\n",
    "        pass\n",
    "\n",
    "    @abc.abstractmethod\n",
    "    def __iter__(self) -> typing.Iterator[\"AbstractSchemaElement\"]:\n",
    "        \"\"\" iterator through SchemaElements in this Schema \"\"\"\n",
    "        pass\n",
    "\n",
    "    def get_annotations(self) -> typing.Dict[str, typing.Type]:\n",
    "        \"\"\" return Schema Elements in annotation format.\n",
    "            Use as class.__annotations__ = schema.get_annotations()\n",
    "            I would wish that __annotations__ is a protocol that can be provided,\n",
    "            instead of simply assuming it is a mapping. \n",
    "        \"\"\"\n",
    "        return {se.get_name(): se.get_python_type() for se in self}\n",
    "\n",
    "    def as_field_annotations(self) -> typing.Dict[str, dataclasses.Field]:\n",
    "        \"\"\" return Schema Elements in DataClass field annotation format.\n",
    "            Use as class.__annotations__ = schema.as_field_annotations().\n",
    "        \"\"\"\n",
    "        return {se.get_name(): se.get_python_field() for se in self}\n",
    "\n",
    "    def get_metadata(self) -> typing.Mapping[str, typing.Any]:\n",
    "        \"\"\" return metadata (aka payload data) for this Schema.\n",
    "\n",
    "            Meta data is not used at all by the Schema, and is provided as a third-party \n",
    "            extension mechanism. Multiple third-parties can each have their own key, \n",
    "            to use as a namespace in the metadata.\n",
    "            (similar to and taken from dataclasses.Field)\n",
    "\n",
    "            Can be refined; by default an empty dict is returned.\n",
    "\n",
    "            There is a similar method defined on the AbstractSchemaElement for\n",
    "            smetadata attached to a schema element. \n",
    "        \"\"\"\n",
    "        return {}\n",
    "\n",
    "    @classmethod\n",
    "    @abc.abstractmethod\n",
    "    def from_schema(cls, schema: \"AbstractSchema\") -> \"AbstractSchema\":\n",
    "        \"\"\" Optional API: create a new Schema (in the Schema dialect of the cls) from\n",
    "            a schema in any Schema Dialect.\n",
    "        \"\"\"\n",
    "        pass\n",
    "\n",
    "    @abc.abstractmethod\n",
    "    def add_element(self, element: \"AbstractSchemaElement\"):\n",
    "        \"\"\" Optional API: Add a Schema element (in any Schema Dialect) to this Schema. \n",
    "        \"\"\"\n",
    "        pass\n"
   ]
  },
  {
   "cell_type": "markdown",
   "metadata": {},
   "source": [
    "We finish the minimal protocol by defining a Schema Element. It supports a back reference to its Schema, and two methods to get the Schema Element's name and its Python type (for interoperability with Python static typing).\n",
    "\n",
    "The optional method `.from_schema_element()` supports the creation of a SchemaElement and adding elements from another SchemaElement (from another solution). They must not assume any representation of the source SchemaElement, apart from the one exposed in this protocol. \n",
    "\n",
    "*Implementation hints:* \n",
    " - Use `.get_python_field()` to retrieve the data from a SchemaElement, and construct a SchemaElement from the Field.\n",
    " - If argument `schema_element` is from your Schema solution, you may return it unchanged. \n"
   ]
  },
  {
   "cell_type": "code",
   "execution_count": 5,
   "metadata": {},
   "outputs": [],
   "source": [
    "class AbstractSchemaElement(metaclass=abc.ABCMeta):\n",
    "    @abc.abstractmethod\n",
    "    def get_schema(self) -> typing.Optional[AbstractSchema]:\n",
    "        \"\"\" get associated schema or None \"\"\"\n",
    "        pass\n",
    "\n",
    "    @abc.abstractmethod\n",
    "    def get_name(self) -> str:\n",
    "        \"\"\" get name useable as variable name \"\"\"\n",
    "        pass\n",
    "\n",
    "    @abc.abstractmethod\n",
    "    def get_python_type(self) -> type:\n",
    "        \"\"\" get Python type of this AbstractSchemaElement \"\"\"\n",
    "        pass\n",
    "\n",
    "    @abc.abstractmethod\n",
    "    def get_python_field(self) -> dataclasses.Field:\n",
    "        \"\"\" get Python dataclasses.Field corresponding to AbstractSchemaElement.\n",
    "            Unless refined, just packs type into a Field and attaches metadata. \n",
    "        \"\"\"\n",
    "        dcfield = dataclasses.field(metadata=self.get_metadata())\n",
    "        dcfield.type = self.get_python_type()\n",
    "        return dcfield\n",
    "\n",
    "    def get_metadata(self) -> typing.Mapping[str, typing.Any]:\n",
    "        \"\"\" return metadata (aka payload data) for this SchemaElement.\n",
    "\n",
    "            Meta data is not used at all by the Schema, and is provided as a third-party \n",
    "            extension mechanism. Multiple third-parties can each have their own key, \n",
    "            to use as a namespace in the metadata.\n",
    "            (similar to and taken from dataclasses.Field)\n",
    "\n",
    "            Can be refined; by default an empty dict is returned.\n",
    "        \"\"\"\n",
    "        return {}\n",
    "\n",
    "    @classmethod\n",
    "    @abc.abstractmethod\n",
    "    def from_schema_element(\n",
    "        cls, schema_element: \"AbstractSchemaElement\"\n",
    "    ) -> \"AbstractSchemaElement\":\n",
    "        \"\"\" Optional API: create a new AbstractSchemaElement (in the Schema dialect of the cls) from\n",
    "            a AbstractSchemaElement in any Schema Dialect.\n",
    "        \"\"\"\n",
    "        pass\n",
    "\n",
    "\n"
   ]
  },
  {
   "cell_type": "markdown",
   "metadata": {},
   "source": [
    "We now continue by adapting a well-know Schema library. \n",
    "\n"
   ]
  },
  {
   "cell_type": "markdown",
   "metadata": {},
   "source": [
    "## Marshmallow "
   ]
  },
  {
   "cell_type": "markdown",
   "metadata": {},
   "source": [
    "I use [Marshmallow](https://marshmallow.readthedocs.io/en/latest/) as a Schema library. Marshmallow is a full-featured, well-engineered, stand-alone library supporting serialization to Python natives types and JSON. "
   ]
  },
  {
   "cell_type": "markdown",
   "metadata": {},
   "source": [
    "### Adapting the Schema for Marshmallow"
   ]
  },
  {
   "cell_type": "markdown",
   "metadata": {},
   "source": [
    "I assume the above code is available as module `abc_schema`. I don't change the source of Marshmallow, I use subclassing for the Schema and monkey-patching for the fields.\n",
    "\n",
    "The adaption to _Nested_ fields would be trickier, but would follow the same principles (personally, I prefer using an field _Object_, which refers to another schemed class, and works with `post_load()` to re-create the object).  "
   ]
  },
  {
   "cell_type": "code",
   "execution_count": 6,
   "metadata": {},
   "outputs": [],
   "source": [
    "\"\"\" Marshmallow based conformant Schema.\n",
    "    Marshmallow fields are monkey-patched.\n",
    "    Marshmallow schema is subclassed. \n",
    "\"\"\"\n",
    "\n",
    "import typing\n",
    "import marshmallow as mm # type: ignore\n",
    "import decimal\n",
    "import datetime\n",
    "import abc_schema\n",
    "import dataclasses"
   ]
  },
  {
   "cell_type": "markdown",
   "metadata": {},
   "source": [
    "Now adapt Marshmallow fields by monkey patching:"
   ]
  },
  {
   "cell_type": "code",
   "execution_count": 7,
   "metadata": {},
   "outputs": [],
   "source": [
    "\"\"\" Methods for Marshmallow fields (will be monkey-patched) \"\"\"\n",
    "\n",
    "\n",
    "def get_schema(self) -> typing.Optional[\"MMSchema\"]:\n",
    "    \"\"\" return the Schema or None \"\"\"\n",
    "    return self.root\n",
    "\n",
    "\n",
    "def get_name(self) -> str:\n",
    "    return self.name\n",
    "\n",
    "\n",
    "def get_python_type(self) -> typing.Type:\n",
    "    \"\"\" get native type of field. \n",
    "\n",
    "    \"\"\"\n",
    "    return FieldType_to_PythonType.get(self.__class__, typing.Type[typing.Any])\n",
    "\n",
    "\n",
    "def get_python_field(self) -> dataclasses.Field:\n",
    "    \"\"\" get Python dataclasses.Field corresponding to SchemaElement.\n",
    "        Fills default if provided in field. If field is not required and there is no default, make type Optional.\n",
    "    \"\"\"\n",
    "    pytype = self.get_python_type()\n",
    "    # mm.missing -> dataclasses.MISSING>\n",
    "    default = dataclasses.MISSING if self.missing is mm.missing else self.missing\n",
    "    \n",
    "    if (not self.required) and default is dataclasses.MISSING:\n",
    "        pytype = typing.Optional[pytype]  # type: ignore # I don't understand mypy's problem here!\n",
    "    dcfield = dataclasses.field(default=default, metadata=self.get_metadata())\n",
    "    dcfield.type = pytype\n",
    "    return dcfield\n",
    "\n",
    "\n",
    "def get_metadata(self) -> typing.Mapping[str, typing.Any]:\n",
    "    \"\"\" return metadata (aka payload data) for this SchemaElement.\n",
    "    \"\"\"\n",
    "    return self.metadata\n",
    "\n",
    "\n",
    "def from_schema_element(cls, schema_element: abc_schema.AbstractSchemaElement) -> mm.fields.Field:\n",
    "    \"\"\" Classmethod: Create a new Marshmallow Field from\n",
    "        a AbstractSchemaElement in any Schema Dialect.\n",
    "\n",
    "        In a real implementation, we could return schema_element unchanged\n",
    "        if isinstance(schema_element,mm.fields.Field). However, we only\n",
    "        rely on the protocol API here. \n",
    "\n",
    "    \"\"\"\n",
    "    pf = schema_element.get_python_field()\n",
    "    pt = pf.type\n",
    "    required = True\n",
    "\n",
    "    # Determine whether pt is an Optional type, which is a Union[pt,None] \n",
    "    # typing has very limited inspection features: \n",
    "    if getattr(pt, \"__origin__\", None) is typing.Union:  # is this typing.Union?\n",
    "        if len(pt.__args__) == 2 and pt.__args__[1] in (\n",
    "            None,\n",
    "            None.__class__,\n",
    "        ):  # Optional type\n",
    "            pt = pt.__args__[0]  # actual type\n",
    "            required = False # optional means it's not required\n",
    "\n",
    "    mmf = from_python_type(pt, required, pf.default, pf.metadata)\n",
    "    if mmf:\n",
    "        return mmf\n",
    "    else:\n",
    "        raise ValueError(\n",
    "            f\"Cannot determine Marshmallow field for dataclassed.Field {pf} with type {pt} in element {schema_element}\"\n",
    "        )\n",
    "\n",
    "\n",
    "def from_python_type(\n",
    "    pt: type, required: bool = True, default: typing.Any = dataclasses.MISSING, \n",
    "    metadata: typing.Mapping[str, typing.Any] = None) -> typing.Optional[mm.fields.Field]:\n",
    "    \"\"\" Create a new Marshmallow Field from a python type, either type, class, or typing.Type.\n",
    "        We first check the special _name convention for typing.Type, \n",
    "        then check whether the FieldType has a _type_factory or is constructed by its class.\n",
    "    \"\"\"\n",
    "    pt_name = getattr(pt, \"_name\", None)\n",
    "    if pt_name:\n",
    "        field_class = TypingName_to_FieldType.get(pt_name)\n",
    "    else:\n",
    "        field_class = None\n",
    "    if not field_class:\n",
    "        field_class = PythonType_to_FieldType.get(pt)\n",
    "        if not field_class:\n",
    "            return None\n",
    "\n",
    "    if default is dataclasses.MISSING:  # dataclasses.MISSING ->  mm.missing\n",
    "        default = mm.missing\n",
    "\n",
    "    type_factory = getattr(field_class, \"_type_factory\", None)\n",
    "    if type_factory:\n",
    "        mmf = type_factory(pt, required=required, default=default, metadata=metadata)\n",
    "    else:\n",
    "        mmf = field_class(\n",
    "            required=required, missing=default, default=default, metadata=metadata\n",
    "        )\n",
    "    return mmf\n",
    "\n",
    "\n",
    "# monkey-patch all Fields:\n",
    "mm.fields.Field.get_schema = get_schema\n",
    "mm.fields.Field.get_name = get_name\n",
    "mm.fields.Field.get_python_type = get_python_type\n",
    "mm.fields.Field.get_python_field = get_python_field\n",
    "mm.fields.Field.get_metadata = get_metadata\n",
    "mm.fields.Field.from_schema_element = classmethod(from_schema_element)\n",
    "\n",
    "FieldType_to_PythonType: typing.Dict[mm.fields.FieldABC, typing.Type] = {\n",
    "    mm.fields.Integer:          int,\n",
    "    mm.fields.Float:            float,\n",
    "    mm.fields.Decimal:          decimal.Decimal,\n",
    "    mm.fields.Boolean:          bool,\n",
    "    mm.fields.Email:            str,    \n",
    "    mm.fields.FormattedString:  str,\n",
    "    mm.fields.Str:              str, # least specific last\n",
    "    mm.fields.DateTime:         datetime.datetime,\n",
    "    mm.fields.Time:             datetime.time,\n",
    "    mm.fields.Date:             datetime.date,\n",
    "    mm.fields.TimeDelta:        datetime.timedelta,\n",
    "    mm.fields.Dict:             typing.Dict,\n",
    "}\n",
    "\n",
    "# reverse list, least specific overwrites most specific:\n",
    "PythonType_to_FieldType = {pt: ft for ft, pt in FieldType_to_PythonType.items()}\n",
    "\n"
   ]
  },
  {
   "cell_type": "markdown",
   "metadata": {},
   "source": [
    "Dict as a container field with fields for keys and values is a bit more involved, so we hook methods to get the Python type based on the container types, and a factory to create a Marshmallow dict from the composed Python type.\n",
    "\n",
    "The introspection facilities of the Python `typing` module seem limited, so I have to use some internals. See [Typing Inspect](https://github.com/ilevkivskyi/typing_inspect) for an alternative. "
   ]
  },
  {
   "cell_type": "code",
   "execution_count": 8,
   "metadata": {},
   "outputs": [],
   "source": [
    "# Types from typing have a _name field - I found no other way to determine what typing.Dict actually is:\n",
    "TypingName_to_FieldType: typing.Dict[str, mm.fields.FieldABC] = {\n",
    "    'Dict':                     mm.fields.Dict,\n",
    "}\n",
    "\n",
    "\n",
    "def _dict_get_python_type(self) -> type:\n",
    "    \"\"\" get native classes of containers and build Dict type\n",
    "        Simplified - either container is a Field, or we use Any.\n",
    "    \"\"\"\n",
    "    kt = (\n",
    "        self.key_container.get_python_type()\n",
    "        if isinstance(self.key_container, mm.fields.FieldABC)\n",
    "        else typing.Type[typing.Any]\n",
    "    )\n",
    "    vt = (\n",
    "        self.value_container.get_python_type()\n",
    "        if isinstance(self.value_container, mm.fields.FieldABC)\n",
    "        else typing.Type[typing.Any]\n",
    "    )\n",
    "    return typing.Dict[kt, vt]  # type: ignore # mypy cannot handle this dynamic typing without a plugin!\n",
    "\n",
    "\n",
    "def _dict_type_factory(\n",
    "    cls, pt: typing.Type, required: bool, default: typing.Any, metadata: dict\n",
    ") -> mm.fields.Field:\n",
    "    \"\"\" get MM fields.Dict from Python type. \n",
    "        get key class and value class (both can be None), then construct Dict.\n",
    "    \"\"\"\n",
    "    kc = from_python_type(pt.__args__[0])\n",
    "    vc = from_python_type(pt.__args__[1])\n",
    "    return cls(\n",
    "         keys=kc, values=vc, required=required, missing=default, default=default, metadata=metadata\n",
    "    )\n",
    "\n",
    "\n",
    "mm.fields.Dict.get_python_type = _dict_get_python_type\n",
    "mm.fields.Dict._type_factory = classmethod(_dict_type_factory)\n",
    "\n"
   ]
  },
  {
   "cell_type": "markdown",
   "metadata": {},
   "source": [
    "The SchemedObject can be used a superclass for Python objects with an associated Schema. By convention of this implementation, the Schema is obtained as an inner class named Schema.\n",
    "\n",
    "The Schema is instantiated and cached as `.__schema`. It also sets `__objclass__` in the schema of a class to that class, so `MMSchema.object_factory()` can recreate the actual class instance. I prefer this over a Marshmallow `post_load()` decorator, because that needs to be defined on the Schema (however, this is not part of the protocol, but of my adaption of Marshmallow). "
   ]
  },
  {
   "cell_type": "code",
   "execution_count": 9,
   "metadata": {},
   "outputs": [
    {
     "data": {
      "text/plain": [
       "__main__.SchemedObject"
      ]
     },
     "execution_count": 9,
     "metadata": {},
     "output_type": "execute_result"
    }
   ],
   "source": [
    "class SchemedObject:\n",
    "    \"\"\" SchemedObject is the - entirely optional - superclass that can be used for classes that have an associated\n",
    "        Schema. It defines one class method .__get_schema__, to return that Schema.\n",
    "\n",
    "        By convention of this implementation, the Schema is obtained as an inner class named Schema.\n",
    "        The Schema is instantiated and cached as .__schema. __objclass__ is set in the Schema so\n",
    "        that .object_factory() can create an instance. \n",
    "    \"\"\"\n",
    "\n",
    "    @classmethod\n",
    "    def __get_schema__(cls):\n",
    "        \"\"\" get schema attached to class, and cached in cls.__schema. If not cached, instantiate .Schema \"\"\"\n",
    "        s = getattr(cls, \"__schema\", None)\n",
    "        if s is None:\n",
    "            sclass = getattr(cls, \"Schema\", None)\n",
    "            if sclass is None:\n",
    "                raise ValueError(\"Class must have Schema inner class\")\n",
    "            else:\n",
    "                s = cls.__schema = sclass()  # instantiate\n",
    "                s.__objclass__ = cls  # assign this class to schema.__objclass__\n",
    "        return s\n",
    "\n",
    "\n",
    "abc_schema.SchemedObject.register(SchemedObject)"
   ]
  },
  {
   "cell_type": "markdown",
   "metadata": {},
   "source": [
    "Now for the Schema itself, and its transformation methods:"
   ]
  },
  {
   "cell_type": "code",
   "execution_count": 10,
   "metadata": {},
   "outputs": [
    {
     "data": {
      "text/plain": [
       "__main__.MMSchema"
      ]
     },
     "execution_count": 10,
     "metadata": {},
     "output_type": "execute_result"
    }
   ],
   "source": [
    "class MMSchema(mm.Schema):\n",
    "\n",
    "    SupportedRepresentations = {\n",
    "        abc_schema.WellknownRepresentation.python,\n",
    "        abc_schema.WellknownRepresentation.json,\n",
    "    }\n",
    "\n",
    "    def to_external(\n",
    "        self,\n",
    "        obj: SchemedObject,\n",
    "        destination: abc_schema.WellknownRepresentation,\n",
    "        writer_callback: typing.Optional[typing.Callable] = None,\n",
    "        **params,\n",
    "    ) -> typing.Optional[typing.Any]:\n",
    "        \"\"\"\n",
    "            If *writer_callback* is None (the default), the external representation\n",
    "            is returned as result.\n",
    "\n",
    "            If *writer_callback* is not None, then it can be called any number\n",
    "            of times with some arguments. No result is returned.\n",
    "\n",
    "            (inspired by PEP-574 https://www.python.org/dev/peps/pep-0574/#producer-api)\n",
    "        \"\"\"\n",
    "        supported = {\n",
    "            abc_schema.WellknownRepresentation.json: self.dumps,\n",
    "            abc_schema.WellknownRepresentation.python: self.dump,\n",
    "        }\n",
    "        method = supported.get(destination)\n",
    "        if not method:\n",
    "            raise ValueError(f\"destination {destination} not supported.\")\n",
    "        e = method(obj, **params)\n",
    "        if writer_callback:\n",
    "            return writer_callback(e)\n",
    "        else:\n",
    "            return e\n",
    "\n",
    "    def from_external(\n",
    "        self,\n",
    "        external: typing.Union[typing.Any, typing.Callable],\n",
    "        source: abc_schema.WellknownRepresentation,\n",
    "        **params,\n",
    "    ) -> typing.Union[SchemedObject, typing.Dict[typing.Any, typing.Any]]:\n",
    "\n",
    "        \"\"\"\n",
    "            If *external* is bytes, they are consumed as source representation.\n",
    "\n",
    "            If *external* is a Callable, then it can be called any number\n",
    "            of times with some arguments to obtain parts of the source representation.\n",
    "\n",
    "        \"\"\"\n",
    "        supported = {\n",
    "            abc_schema.WellknownRepresentation.json: self.loads,\n",
    "            abc_schema.WellknownRepresentation.python: self.load,\n",
    "        }\n",
    "        method = supported.get(source)\n",
    "        if not method:\n",
    "            raise ValueError(f\"source {source} not supported.\")\n",
    "        if callable(external):\n",
    "            external = external(None)\n",
    "        d = method(external, **params)\n",
    "        o = self.object_factory(d)\n",
    "\n",
    "        return o\n",
    "\n",
    "    def validate_internal(self, obj: SchemedObject, **params) -> SchemedObject:\n",
    "        \"\"\" Marshmallow doesn't provide validation on the object - we need to dump it.\n",
    "            As Schema.validate returns a dict, but we want an error raised, we call .load() instead.\n",
    "            However, if the validation doesn't raise an error, we return the argument obj unchanged. \n",
    "        \"\"\"\n",
    "        dummy = self.load(self.dump(obj))  # may raise an error\n",
    "        return obj\n",
    "\n",
    "    def __iter__(self):\n",
    "        \"\"\" iterator through SchemaElements in this Schema, sett \"\"\"\n",
    "        for name, field in self._declared_fields.items():\n",
    "            field.name = name\n",
    "            yield field\n",
    "\n",
    "    def object_factory(self, d: dict) -> typing.Union[SchemedObject, dict]:\n",
    "        \"\"\" return an object from dict, according to the Schema's __objclass__ \"\"\"\n",
    "        objclass = getattr(self, \"__objclass__\", None)\n",
    "        if objclass:\n",
    "            o = objclass(**d)  # factory!\n",
    "        else:\n",
    "            o = d\n",
    "        return o\n",
    "\n",
    "    def get_metadata(self) -> typing.MutableMapping[str, typing.Any]:\n",
    "        \"\"\" return metadata (aka payload data) for this Schema.\n",
    "            Meta data is not used at all by the Schema, and is provided as a third-party \n",
    "            extension mechanism. Multiple third-parties can each have their own key, \n",
    "            to use as a namespace in the metadata (similar to and taken from dataclasses.Field)\n",
    "        \"\"\"\n",
    "        return self.context\n",
    "\n",
    "    def get_annotations(self) -> typing.Dict[str, typing.Type]:\n",
    "        \"\"\" return Schema Elements in annotation format.\n",
    "            same as in abc_schema, but cannot inherit (cannot subclass due to metaclass conflict).\n",
    "        \"\"\"\n",
    "        return {se.get_name(): se.get_python_type() for se in self}\n",
    "\n",
    "    def as_field_annotations(self) -> typing.Dict[str, dataclasses.Field]:\n",
    "        \"\"\" return Schema Elements in DataClass field annotation format. \n",
    "            same as in abc_schema, but cannot inherit (cannot subclass due to metaclass conflict).\n",
    "        \"\"\"\n",
    "        return {se.get_name(): se.get_python_field() for se in self}\n",
    "\n",
    "    @classmethod\n",
    "    def from_schema(cls, schema: abc_schema.AbstractSchema) -> \"MMSchema\":\n",
    "        \"\"\" Create a new Marshmallow Schema from a schema in any Schema Dialect.\n",
    "            Unfortunately, Marshmallow has no API to add fields, so we use internal APIs. \n",
    "            See https://github.com/marshmallow-code/marshmallow/issues/1201.\n",
    "        \"\"\"\n",
    "        s = MMSchema(context=schema.get_metadata())  # base Schema\n",
    "        # add fields\n",
    "        s.declared_fields = {\n",
    "            element.get_name(): mm.fields.Field.from_schema_element(element)\n",
    "            for element in schema\n",
    "        }\n",
    "        s.fields = s._init_fields()  # invoke internal API to bind fields \n",
    "        return s\n",
    "\n",
    "    def add_element(self, element: abc_schema.AbstractSchemaElement):\n",
    "        \"\"\" Add a Schema element to this Schema.\n",
    "            We're afraid to use internal API to add additional fields.\n",
    "            See https://github.com/marshmallow-code/marshmallow/issues/1201.\n",
    "            This API is optional, after all.\n",
    "        \"\"\"\n",
    "        raise NotImplementedError(\"Marshmallow API doesn't support adding fields\")\n",
    "\n",
    "\n",
    "abc_schema.AbstractSchema.register(MMSchema)\n"
   ]
  },
  {
   "cell_type": "markdown",
   "metadata": {},
   "source": [
    "### Examples"
   ]
  },
  {
   "cell_type": "markdown",
   "metadata": {},
   "source": [
    "Using the above code, we declare a Person class with a Marshmallow Schema:"
   ]
  },
  {
   "cell_type": "code",
   "execution_count": 11,
   "metadata": {},
   "outputs": [],
   "source": [
    "from marshmallow_schema import SchemedObject, MMSchema\n",
    "import abc_schema\n",
    "import marshmallow as mm  # type: ignore\n",
    "import dataclasses\n",
    "import datetime\n",
    "import typing"
   ]
  },
  {
   "cell_type": "code",
   "execution_count": 12,
   "metadata": {},
   "outputs": [],
   "source": [
    "class Person(SchemedObject):\n",
    "    class Schema(MMSchema):\n",
    "        name = mm.fields.Str(required=True)\n",
    "        email = mm.fields.Email(missing=None)\n",
    "        dob = mm.fields.Date(required=False,missing=None)\n",
    "        sex = mm.fields.Str(\n",
    "            validate=mm.fields.validate.OneOf((\"m\", \"f\", \"o\", \"?\")), missing=\"?\"\n",
    "        )\n",
    "        education = mm.fields.Dict(\n",
    "            keys=mm.fields.Str(), values=mm.fields.Date(), payload=\"field metadata\"\n",
    "        )\n",
    "\n",
    "    __annotations__ = Schema().get_annotations()\n",
    "\n",
    "\n",
    "p = Person()"
   ]
  },
  {
   "cell_type": "code",
   "execution_count": 13,
   "metadata": {},
   "outputs": [
    {
     "data": {
      "text/plain": [
       "{'name': str,\n",
       " 'email': str,\n",
       " 'dob': datetime.date,\n",
       " 'sex': str,\n",
       " 'education': typing.Dict[str, datetime.date]}"
      ]
     },
     "execution_count": 13,
     "metadata": {},
     "output_type": "execute_result"
    }
   ],
   "source": [
    "{se.get_name(): se.get_python_type() for se in p.__get_schema__()}"
   ]
  },
  {
   "cell_type": "code",
   "execution_count": 14,
   "metadata": {},
   "outputs": [],
   "source": [
    "s = p.__get_schema__()\n",
    "assert s.fields[\"name\"].get_schema() is s\n",
    "assert s.fields[\"education\"].get_metadata() == {\"payload\": \"field metadata\"}"
   ]
  },
  {
   "cell_type": "markdown",
   "metadata": {},
   "source": [
    "`education` is a Marshmallow field:"
   ]
  },
  {
   "cell_type": "code",
   "execution_count": 15,
   "metadata": {},
   "outputs": [
    {
     "data": {
      "text/plain": [
       "<fields.Dict(default=<marshmallow.missing>, attribute=None, validate=None, required=False, load_only=False, dump_only=False, missing=<marshmallow.missing>, allow_none=False, error_messages={'required': 'Missing data for required field.', 'null': 'Field may not be null.', 'validator_failed': 'Invalid value.', 'invalid': 'Not a valid mapping type.'})>"
      ]
     },
     "execution_count": 15,
     "metadata": {},
     "output_type": "execute_result"
    }
   ],
   "source": [
    "field = s.fields[\"education\"]\n",
    "field"
   ]
  },
  {
   "cell_type": "markdown",
   "metadata": {},
   "source": [
    "Use it to create another Marshmallow field without using field's Marshmallow internals:"
   ]
  },
  {
   "cell_type": "code",
   "execution_count": 16,
   "metadata": {},
   "outputs": [
    {
     "data": {
      "text/plain": [
       "<fields.Dict(default=<marshmallow.missing>, attribute=None, validate=None, required=False, load_only=False, dump_only=False, missing=<marshmallow.missing>, allow_none=False, error_messages={'required': 'Missing data for required field.', 'null': 'Field may not be null.', 'validator_failed': 'Invalid value.', 'invalid': 'Not a valid mapping type.'})>"
      ]
     },
     "execution_count": 16,
     "metadata": {},
     "output_type": "execute_result"
    }
   ],
   "source": [
    "mm.fields.Field.from_schema_element(field)"
   ]
  },
  {
   "cell_type": "markdown",
   "metadata": {},
   "source": [
    "Create another Marshmallow schema from s, only using the protocol API to access s (round trip): "
   ]
  },
  {
   "cell_type": "code",
   "execution_count": 17,
   "metadata": {},
   "outputs": [],
   "source": [
    "scopy = MMSchema.from_schema(s)"
   ]
  },
  {
   "cell_type": "markdown",
   "metadata": {},
   "source": [
    "We can also define a data class:"
   ]
  },
  {
   "cell_type": "code",
   "execution_count": 18,
   "metadata": {},
   "outputs": [],
   "source": [
    "@dataclasses.dataclass\n",
    "class DCPerson(Person):\n",
    "     __annotations__ = Person.Schema().as_field_annotations()"
   ]
  },
  {
   "cell_type": "markdown",
   "metadata": {},
   "source": [
    "Note we need to set dob=None, as dataclasses cannot handle optional fields, but since the type is optional, it's still a valid value:"
   ]
  },
  {
   "cell_type": "code",
   "execution_count": 19,
   "metadata": {},
   "outputs": [],
   "source": [
    "dcp = DCPerson(name='Martin',email='mgf@acm.org',sex='m',dob=None,education={\"Gymnasium Raemibuehl\": datetime.date(1981, 9, 1)})"
   ]
  },
  {
   "cell_type": "code",
   "execution_count": 20,
   "metadata": {},
   "outputs": [
    {
     "data": {
      "text/plain": [
       "DCPerson(name='Martin', email='mgf@acm.org', dob=None, sex='m', education={'Gymnasium Raemibuehl': datetime.date(1981, 9, 1)})"
      ]
     },
     "execution_count": 20,
     "metadata": {},
     "output_type": "execute_result"
    }
   ],
   "source": [
    "dcp"
   ]
  },
  {
   "cell_type": "code",
   "execution_count": 21,
   "metadata": {},
   "outputs": [],
   "source": [
    "dcp_s = dcp.__get_schema__()"
   ]
  },
  {
   "cell_type": "code",
   "execution_count": 22,
   "metadata": {},
   "outputs": [],
   "source": [
    "j = dcp_s.to_external(dcp,abc_schema.WellknownRepresentation.json)"
   ]
  },
  {
   "cell_type": "code",
   "execution_count": 23,
   "metadata": {},
   "outputs": [
    {
     "data": {
      "text/plain": [
       "'{\"sex\": \"m\", \"dob\": null, \"email\": \"mgf@acm.org\", \"education\": {\"Gymnasium Raemibuehl\": \"1981-09-01\"}, \"name\": \"Martin\"}'"
      ]
     },
     "execution_count": 23,
     "metadata": {},
     "output_type": "execute_result"
    }
   ],
   "source": [
    "j"
   ]
  },
  {
   "cell_type": "code",
   "execution_count": 24,
   "metadata": {},
   "outputs": [],
   "source": [
    "o = dcp_s.from_external(j,abc_schema.WellknownRepresentation.json)"
   ]
  },
  {
   "cell_type": "code",
   "execution_count": 25,
   "metadata": {},
   "outputs": [
    {
     "data": {
      "text/plain": [
       "DCPerson(name='Martin', email='mgf@acm.org', dob=None, sex='m', education={'Gymnasium Raemibuehl': datetime.date(1981, 9, 1)})"
      ]
     },
     "execution_count": 25,
     "metadata": {},
     "output_type": "execute_result"
    }
   ],
   "source": [
    "dcp_s.validate_internal(dcp)"
   ]
  },
  {
   "cell_type": "markdown",
   "metadata": {},
   "source": [
    "Validate with the \"copy\" of the Schema created above using only the protocol API:"
   ]
  },
  {
   "cell_type": "code",
   "execution_count": 26,
   "metadata": {},
   "outputs": [
    {
     "data": {
      "text/plain": [
       "DCPerson(name='Martin', email='mgf@acm.org', dob=None, sex='m', education={'Gymnasium Raemibuehl': datetime.date(1981, 9, 1)})"
      ]
     },
     "execution_count": 26,
     "metadata": {},
     "output_type": "execute_result"
    }
   ],
   "source": [
    "scopy.validate_internal(dcp)"
   ]
  },
  {
   "cell_type": "markdown",
   "metadata": {},
   "source": [
    "### MyPy static type checking"
   ]
  },
  {
   "cell_type": "markdown",
   "metadata": {},
   "source": [
    "Note that MyPy currently cannot check type definitions returned by functions and methods (definitions, not the return type itself). However, MyPy has a [plugin mechanism](http://mypy-lang.blogspot.com/2019/03/extending-mypy-with-plugins.html) that should support such calculated types. "
   ]
  },
  {
   "cell_type": "code",
   "execution_count": 27,
   "metadata": {},
   "outputs": [],
   "source": [
    "!mypy marshmallow_example.py"
   ]
  },
  {
   "cell_type": "markdown",
   "metadata": {},
   "source": [
    "### Conclusion"
   ]
  },
  {
   "cell_type": "markdown",
   "metadata": {},
   "source": [
    "Using Marshmallow through the protocol is not easier than using the standard Marshmallow API. However, if in a Marshmallow \n",
    "Schema one needs to refer to some Schemas in Django or SQLAlchemy, interoperability becomes key."
   ]
  }
 ],
 "metadata": {
  "kernelspec": {
   "display_name": "Python 3",
   "language": "python",
   "name": "python3"
  },
  "language_info": {
   "codemirror_mode": {
    "name": "ipython",
    "version": 3
   },
   "file_extension": ".py",
   "mimetype": "text/x-python",
   "name": "python",
   "nbconvert_exporter": "python",
   "pygments_lexer": "ipython3",
   "version": "3.7.2"
  }
 },
 "nbformat": 4,
 "nbformat_minor": 2
}
