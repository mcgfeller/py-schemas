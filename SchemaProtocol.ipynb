{
 "cells": [
  {
   "cell_type": "markdown",
   "metadata": {},
   "source": [
    "# A minimal standard for interoperable Schemas"
   ]
  },
  {
   "cell_type": "markdown",
   "metadata": {},
   "source": [
    "The minimal standard is defined as a Protocol, with some Abstract Base Classes. The protocol is minimal in that it provides for the most common [Use Cases](https://github.com/mcgfeller/py-schemas/blob/master/UseCases.md):\n",
    "* Serialization to an external representation\n",
    "* Deserialization from an external representation\n",
    "* Validation\n",
    "* Obtaining Schema elements\n",
    "* Static type checking\n",
    "  * Get the Python type of a schema element \n",
    "* Associate data with Schema\n",
    "\n",
    "The protocol doesn't provide a standard representation for Schemas or Schema Elements; it only provides standard access and use. It does not provide conversion of arbitrary Schema features between schema libraries, but it provides conversion to Python static types. See [Alternatives considered](https://github.com/mcgfeller/py-schemas/blob/master/alternatives.md).\n",
    "\n",
    "Using the Protocol for a single schema library, such as Marshmallow, does not provide facilities superior over the native usage. However, if the protocol is implemented by several libraries, integration of libraries using different schema facilities becomes much easier.\n"
   ]
  },
  {
   "cell_type": "code",
   "execution_count": 1,
   "metadata": {},
   "outputs": [],
   "source": [
    "import abc\n",
    "import typing\n",
    "import collections.abc\n",
    "import enum"
   ]
  },
  {
   "cell_type": "markdown",
   "metadata": {},
   "source": [
    "First, an entirely optional, a class providing a protocol to associate a Schema with a class, without constraining to much how things are composed. We only mandate that if a Schema is assigned to a subclass of `SchemedObject`, the Schema can be retrieved by `.__get_schema__()`. "
   ]
  },
  {
   "cell_type": "code",
   "execution_count": 2,
   "metadata": {},
   "outputs": [],
   "source": [
    "class SchemedObject(metaclass=abc.ABCMeta):\n",
    "    \"\"\" An object with a Schema, supporting the __get_schema__ method.\n",
    "    \"\"\"\n",
    "\n",
    "    @classmethod\n",
    "    @abc.abstractmethod    \n",
    "    def __get_schema__(cls) -> 'AbstractSchema':\n",
    "        pass"
   ]
  },
  {
   "cell_type": "markdown",
   "metadata": {},
   "source": [
    "To standardize on representations into which we serialize, we enumerate a few, so we can use them as enum. "
   ]
  },
  {
   "cell_type": "code",
   "execution_count": 3,
   "metadata": {},
   "outputs": [],
   "source": [
    "class WellknownRepresentation(enum.Enum):\n",
    "\n",
    "    python  = '__python__' # internal python structures\n",
    "    pickle  = 'application/python-pickle'\n",
    "    json    = 'application/json'\n",
    "    xml     = 'application/xml'\n",
    "    sql     = 'application/sql'\n",
    "    html    = 'text/html'"
   ]
  },
  {
   "cell_type": "markdown",
   "metadata": {},
   "source": [
    "The minimal protocol for a Schema defines it as an Iterable, yielding Schema Elements, having a set of representations it supports, and methods to convert to and from external representations. \n",
    "\n",
    "We want the Schema to be useful for type declarations, so `.as_annotations()` and `.as_field_annotations()` return dictionaries usable as `__annotations__` in a class. Unfortunately, the Python `typing` module assumes `__annotations__` to be a dictionary, instead of allowing a callable returing annotations, so I don't think this can be done elegantly. \n",
    "\n",
    "We also have a `get_metadata()` method defined both on the Schema and the Schema Element. Metadata is not used at all by the Schema, and is provided as a third-party extension mechanism. Multiple third-parties can each have their own key, to use as a namespace in the metadata. This is similar to and taken from [dataclasses.Field](https://docs.python.org/3/library/dataclasses.html#dataclasses.field)."
   ]
  },
  {
   "cell_type": "code",
   "execution_count": 4,
   "metadata": {},
   "outputs": [],
   "source": [
    "class AbstractSchema(collections.abc.Iterable,metaclass=abc.ABCMeta):\n",
    "    \"\"\" The AbstractSchema does not prescribe how the Schema is organizred, and\n",
    "        only prescribes that the AbstractSchemaElement may be obtained by iterating\n",
    "        over the Schema.\n",
    "    \"\"\"\n",
    "    SupportedRepresentations: typing.ClassVar[typing.Set['WellknownRepresentation']] = \\\n",
    "        {WellknownRepresentation.python}\n",
    "\n",
    "    @abc.abstractmethod\n",
    "    def to_external(self, obj : SchemedObject, destination : WellknownRepresentation, \n",
    "                    writer_callback : typing.Optional[typing.Callable]=None, \n",
    "                    **params) -> typing.Optional[typing.Any]:\n",
    "        \"\"\"\n",
    "            If *writer_callback* is None (the default), the external representation\n",
    "            is returned as result.\n",
    "\n",
    "            If *writer_callback* is not None, then it can be called any number\n",
    "            of times with some arguments. No result is returned.\n",
    "\n",
    "            (inspired by PEP-574 https://www.python.org/dev/peps/pep-0574/#producer-api)\n",
    "        \"\"\"\n",
    "        pass\n",
    "\n",
    "\n",
    "    @abc.abstractmethod\n",
    "    def from_external(self,external : typing.Union[typing.Any,typing.Callable], \n",
    "                      source : WellknownRepresentation, **params ) -> SchemedObject:\n",
    "\n",
    "        \"\"\"\n",
    "            If *external* is bytes, they are consumed as source representation.\n",
    "\n",
    "            If *external* is a Callable, then it can be called any number\n",
    "            of times with some arguments to obtain parts of the source representation.\n",
    "\n",
    "        \"\"\"\n",
    "        pass\n",
    "\n",
    "    @abc.abstractmethod\n",
    "    def validate_internal(self, obj : SchemedObject, **params, ) -> SchemedObject:\n",
    "        pass\n",
    "\n",
    "    @abc.abstractmethod\n",
    "    def __iter__(self) -> typing.Iterator['AbstractSchemaElement'] :\n",
    "        \"\"\" iterator through SchemaElements in this Schema \"\"\"\n",
    "        pass\n",
    "\n",
    "    def as_annotations(self) -> typing.Dict[str,type]:\n",
    "        \"\"\" return Schema Elements in annotation format.\n",
    "            Use as class.__annotations__ = schema.as_annotations()\n",
    "            I would wish that __annotations__ is a protocol that can be provided,\n",
    "            instead of simply assuming it is a mapping. \n",
    "        \"\"\"\n",
    "        return {se.get_name() : se.get_python_type() for se in self}\n",
    "\n",
    "    def as_field_annotations(self) -> typing.Dict[str,type]:\n",
    "        \"\"\" return Schema Elements in DataClass field annotation format.\n",
    "            Use as class.__annotations__ = schema.as_field_annotations().\n",
    "\n",
    "            Equivalent to as_annotations unless refined in a subclass, \n",
    "        \"\"\"\n",
    "        return self.as_field_annotations()  \n",
    "    \n",
    "    def get_metadata(self) -> typing.Dict[str,typing.Any]:\n",
    "        \"\"\" return metadata (aka payload data) for this Schema.\n",
    "\n",
    "            Meta data is not used at all by the Schema, and is provided as a third-party \n",
    "            extension mechanism. Multiple third-parties can each have their own key, \n",
    "            to use as a namespace in the metadata.\n",
    "            (similar to and taken from dataclasses.Field)\n",
    "\n",
    "            Can be refined; by default an empty dict is returned.\n",
    "\n",
    "            There is a similar method defined on the AbstractSchemaElement for\n",
    "            smetadata attached to a schema element. \n",
    "        \"\"\"\n",
    "        return {} "
   ]
  },
  {
   "cell_type": "markdown",
   "metadata": {},
   "source": [
    "We finish the minimal protocol by defining a Schema Element. It supports a back reference to its Schema, and two methods to get the Schema Element's name and its Python type (for interoperability with Python static typing). "
   ]
  },
  {
   "cell_type": "code",
   "execution_count": 6,
   "metadata": {},
   "outputs": [],
   "source": [
    "class AbstractSchemaElement(metaclass=abc.ABCMeta):\n",
    "\n",
    "\n",
    "    @abc.abstractmethod\n",
    "    def get_schema(self) -> typing.Optional[AbstractSchema]:\n",
    "        \"\"\" get associated schema or None \"\"\"\n",
    "        pass\n",
    "\n",
    "    @abc.abstractmethod\n",
    "    def get_python_type(self) -> type:\n",
    "        \"\"\" get Python type of this AbstractSchemaElement \"\"\"\n",
    "        pass\n",
    "\n",
    "    @abc.abstractmethod\n",
    "    def get_name(self) -> str:\n",
    "        \"\"\" get name useable as variable name \"\"\"\n",
    "        pass\n",
    "    \n",
    "    def get_metadata(self) -> typing.Dict[str,typing.Any]:\n",
    "        \"\"\" return metadata (aka payload data) for this SchemaElement.\n",
    "\n",
    "            Meta data is not used at all by the Schema, and is provided as a third-party \n",
    "            extension mechanism. Multiple third-parties can each have their own key, \n",
    "            to use as a namespace in the metadata.\n",
    "            (similar to and taken from dataclasses.Field)\n",
    "\n",
    "            Can be refined; by default an empty dict is returned.\n",
    "        \"\"\"\n",
    "        return {} "
   ]
  },
  {
   "cell_type": "markdown",
   "metadata": {},
   "source": [
    "We now continue by adapting a well-know Schema library. \n",
    "\n"
   ]
  },
  {
   "cell_type": "markdown",
   "metadata": {},
   "source": [
    "## Marshmallow "
   ]
  },
  {
   "cell_type": "markdown",
   "metadata": {},
   "source": [
    "I use [Marshmallow](https://marshmallow.readthedocs.io/en/latest/) as a Schema library. Marshmallow is a full-featured, well-engineered, stand-alone library supporting serialization to Python natives types and JSON. "
   ]
  },
  {
   "cell_type": "markdown",
   "metadata": {},
   "source": [
    "### Adapting the Schema for Marshmallow"
   ]
  },
  {
   "cell_type": "markdown",
   "metadata": {},
   "source": [
    "I assume the above code is available as module `abc_schema`. I don't change the source of Marshmallow, I use subclassing for the Schema and monkey-patching for the fields.\n",
    "\n",
    "The adaption to _Nested_ fields would be trickier, but would follow the same principles (personally, I prefer using an field _Object_, which refers to another schemed class, and works with `post_load()` to re-create the object).  "
   ]
  },
  {
   "cell_type": "code",
   "execution_count": 7,
   "metadata": {},
   "outputs": [],
   "source": [
    "\"\"\" Marshmallow based conformant Schema.\n",
    "    Marshmallow fields are monkey-patched.\n",
    "    Marshmallow schema is subclassed. \n",
    "\"\"\"\n",
    "\n",
    "import typing\n",
    "import marshmallow as mm # type: ignore\n",
    "import decimal\n",
    "import datetime\n",
    "import abc_schema\n",
    "import dataclasses"
   ]
  },
  {
   "cell_type": "markdown",
   "metadata": {},
   "source": [
    "Now adapt Marshmallow fields by monkey patching:"
   ]
  },
  {
   "cell_type": "code",
   "execution_count": 8,
   "metadata": {},
   "outputs": [],
   "source": [
    "def get_schema(self) -> typing.Optional['MMSchema']:\n",
    "    \"\"\" return the Schema or None \"\"\"\n",
    "    return self.root\n",
    "\n",
    "def get_python_type(self) -> type:\n",
    "    \"\"\" get native class of field, can be overwritten \"\"\"\n",
    "    return self.python_type\n",
    "\n",
    "def get_name(self) -> str:\n",
    "    return self.name\n",
    "\n",
    "def get_metadata(self) -> typing.Dict[str,typing.Any]:\n",
    "    \"\"\" return metadata (aka payload data) for this SchemaElement.\n",
    "    \"\"\"\n",
    "    return self.metadata \n",
    "\n",
    "# monkey-patch all Fields:\n",
    "mm.fields.Field.get_schema = get_schema\n",
    "mm.fields.Field.get_python_type = get_python_type\n",
    "mm.fields.Field.get_name = get_name\n",
    "mm.fields.Field.get_metadata = get_metadata\n",
    "# monkey-patch specific type Fields:\n",
    "mm.fields.FieldABC.python_type = typing.Any\n",
    "mm.fields.Str.python_type = str\n",
    "mm.fields.Integer.python_type = int\n",
    "mm.fields.Float.python_type = float\n",
    "mm.fields.Decimal.python_type = decimal.Decimal\n",
    "mm.fields.Boolean.python_type = bool\n",
    "mm.fields.FormattedString.python_type = str\n",
    "mm.fields.DateTime.python_type = datetime.datetime\n",
    "mm.fields.Time.python_type = datetime.time\n",
    "mm.fields.Date.python_type = datetime.date\n",
    "mm.fields.TimeDelta.python_type = datetime.timedelta\n",
    "\n",
    "def _dict_get_python_type(self) -> type:\n",
    "    \"\"\" get native classes of containers and build Dict type\n",
    "        Simplified - either container is a Field, or we use Any.\n",
    "    \"\"\"\n",
    "    kt = self.key_container.get_python_type() if isinstance(self.key_container,mm.fields.FieldABC) else typing.Any\n",
    "    vt = self.value_container.get_python_type() if isinstance(self.value_container,mm.fields.FieldABC) else typing.Any\n",
    "    return typing.Dict[kt,vt]\n",
    "\n",
    "mm.fields.Dict.get_python_type = _dict_get_python_type \n",
    "\n"
   ]
  },
  {
   "cell_type": "markdown",
   "metadata": {},
   "source": [
    "The SchemedObject can be used a superclass for Python objects with an associated Schema. By convention of this implementation, the Schema is obtained as an inner class named Schema.\n",
    "\n",
    "The Schema is instantiated and cached as `.__schema`. It also sets `__objclass__` in the schema of a class to that class, so `MMSchema.object_factory()` can recreate the actual class instance. I prefer this over a Marshmallow `post_load()` decorator, because that needs to be defined on the Schema (however, this is not part of the protocol, but of my adaption of Marshmallow). "
   ]
  },
  {
   "cell_type": "code",
   "execution_count": 12,
   "metadata": {},
   "outputs": [
    {
     "data": {
      "text/plain": [
       "__main__.SchemedObject"
      ]
     },
     "execution_count": 12,
     "metadata": {},
     "output_type": "execute_result"
    }
   ],
   "source": [
    "class SchemedObject:\n",
    "    \"\"\" SchemedObject is the - entirely optional - superclass that can be used for classes \n",
    "        that have an associated Schema. It defines one class method .__get_schema__, \n",
    "        to return that Schema.\n",
    "\n",
    "        By convention of this implementation, the Schema is obtained as an inner class named Schema.\n",
    "        The Schema is instantiated and cached as .__schema. __objclass__ is set in the Schema so\n",
    "        that .object_factory() can create an instance. \n",
    "    \"\"\"\n",
    "\n",
    "    @classmethod\n",
    "    def __get_schema__(cls):\n",
    "        \"\"\" get schema attached to class, and cached in cls.__schema. If not cached, instantiate .Schema \"\"\"\n",
    "        s = getattr(cls,'__schema',None)\n",
    "        if s is None:\n",
    "            sclass = getattr(cls,'Schema',None)\n",
    "            if sclass is None:\n",
    "                raise ValueError('Class must have Schema inner class')\n",
    "            else:\n",
    "                s = cls.__schema = sclass() # instantiate\n",
    "                s.__objclass__ = cls # assign this class to schema.__objclass__\n",
    "        return s\n",
    "                \n",
    "abc_schema.SchemedObject.register(SchemedObject)"
   ]
  },
  {
   "cell_type": "markdown",
   "metadata": {},
   "source": [
    "Now for the Schema itself, and its transformation methods:"
   ]
  },
  {
   "cell_type": "code",
   "execution_count": 13,
   "metadata": {},
   "outputs": [
    {
     "data": {
      "text/plain": [
       "__main__.MMSchema"
      ]
     },
     "execution_count": 13,
     "metadata": {},
     "output_type": "execute_result"
    }
   ],
   "source": [
    "class MMSchema(mm.Schema):\n",
    "\n",
    "    SupportedRepresentations = {abc_schema.WellknownRepresentation.python,\n",
    "                                abc_schema.WellknownRepresentation.json,}\n",
    "\n",
    "    def to_external(self, obj : SchemedObject, destination : abc_schema.WellknownRepresentation, \n",
    "                    writer_callback : typing.Optional[typing.Callable]=None, **params) -> typing.Optional[typing.Any]:\n",
    "        \"\"\"\n",
    "            If *writer_callback* is None (the default), the external representation\n",
    "            is returned as result.\n",
    "\n",
    "            If *writer_callback* is not None, then it can be called any number\n",
    "            of times with some arguments. No result is returned.\n",
    "\n",
    "            (inspired by PEP-574 https://www.python.org/dev/peps/pep-0574/#producer-api)\n",
    "        \"\"\"\n",
    "        supported = {\n",
    "            abc_schema.WellknownRepresentation.json : self.dumps,\n",
    "            abc_schema.WellknownRepresentation.python : self.dump,\n",
    "          }\n",
    "        method = supported.get(destination)\n",
    "        if not method:\n",
    "            raise ValueError(f'destination {destination} not supported.')\n",
    "        e = method(obj,**params)\n",
    "        if writer_callback:\n",
    "            return writer_callback(e)\n",
    "        else:\n",
    "            return e\n",
    "\n",
    "    def from_external(self, external : typing.Union[typing.Any,typing.Callable], \n",
    "                      source : abc_schema.WellknownRepresentation,\n",
    "                      **params ) -> typing.Union[SchemedObject, typing.Dict[typing.Any, typing.Any]]:\n",
    "\n",
    "        \"\"\"\n",
    "            If *external* is bytes, they are consumed as source representation.\n",
    "\n",
    "            If *external* is a Callable, then it can be called any number\n",
    "            of times with some arguments to obtain parts of the source representation.\n",
    "\n",
    "        \"\"\"\n",
    "        supported = {\n",
    "            abc_schema.WellknownRepresentation.json : self.loads,\n",
    "            abc_schema.WellknownRepresentation.python : self.load,\n",
    "          }\n",
    "        method = supported.get(source)\n",
    "        if not method:\n",
    "            raise ValueError(f'source {source} not supported.')\n",
    "        if callable(external):\n",
    "            external = external(None)\n",
    "        d = method(external, **params)\n",
    "        o = self.object_factory(d)\n",
    "            \n",
    "        return o\n",
    "        \n",
    "\n",
    "    def validate_internal(self, obj : SchemedObject, **params, ) -> SchemedObject:\n",
    "        \"\"\" Marshmallow doesn't provide validation on the object - we need to dump it.\n",
    "            As Schema.validate returns a dict, but we want an error raised, we call .load() instead.\n",
    "            However, if the validation doesn't raise an error, we return the argument obj unchanged. \n",
    "        \"\"\"\n",
    "        dummy = self.load(self.dump(obj)) # may raise an error\n",
    "        return obj\n",
    "\n",
    "\n",
    "    def __iter__(self):\n",
    "        \"\"\" iterator through SchemaElements in this Schema, sett \"\"\"\n",
    "        for name,field in self._declared_fields.items():\n",
    "            field.name = name\n",
    "            yield field\n",
    "\n",
    "    def as_annotations(self):\n",
    "        \"\"\" return Schema Elements in annotation format.\n",
    "            Use as class.__annotations__ = schema.as_annotations()\n",
    "            I would wish that __annotations__ is a protocol that can be provided, \n",
    "            instead of simply assuming it is a mapping. \n",
    "        \"\"\"\n",
    "        r = {}\n",
    "        for name,field in self._declared_fields.items():\n",
    "            nclass = field.get_python_type()\n",
    "            if not field.required:\n",
    "                if field.missing is not mm.missing: # this is dummy!\n",
    "                    nclass = typing.Union[nclass,type(field.missing)]\n",
    "            r[name] = nclass\n",
    "        return r\n",
    "\n",
    "\n",
    "    def as_field_annotations(self):\n",
    "        \"\"\" return Schema Elements in dataclass field annotation format.\n",
    "            Use as class.__annotations__ = schema.as_annotations()\n",
    "        \"\"\"\n",
    "        r = {}\n",
    "        for name,field in self._declared_fields.items():\n",
    "            nclass = field.get_python_type()\n",
    "            default = None if field.missing is not mm.missing else field.missing\n",
    "            metadata = None \n",
    "            dcfield = dataclasses.field(default=default,metadata=metadata)\n",
    "            dcfield.type = nclass\n",
    "            r[name] = dcfield\n",
    "        return r\n",
    "\n",
    "    def object_factory(self,d : dict) -> typing.Union[SchemedObject,dict]:\n",
    "        \"\"\" return an object from dict, according to the Schema's __objclass__ \"\"\"\n",
    "        objclass = getattr(self,'__objclass__',None)\n",
    "        if objclass:\n",
    "            o = objclass(**d) # factory!\n",
    "        else:\n",
    "            o = d\n",
    "        return o\n",
    "    \n",
    "    def get_metadata(self) -> typing.Dict[str,typing.Any]:\n",
    "        \"\"\" return metadata (aka payload data) for this Schema.\n",
    "            Meta data is not used at all by the Schema, and is provided as a third-party \n",
    "            extension mechanism. Multiple third-parties can each have their own key, \n",
    "            to use as a namespace in the metadata (similar to and taken from dataclasses.Field)\n",
    "        \"\"\"\n",
    "        return self.context\n",
    "\n",
    "abc_schema.AbstractSchema.register(MMSchema)"
   ]
  },
  {
   "cell_type": "markdown",
   "metadata": {},
   "source": [
    "### Examples"
   ]
  },
  {
   "cell_type": "markdown",
   "metadata": {},
   "source": [
    "Using the above code, we declare a Person class with a Marshmallow Schema:"
   ]
  },
  {
   "cell_type": "code",
   "execution_count": 14,
   "metadata": {},
   "outputs": [],
   "source": [
    "from marshmallow_schema import SchemedObject,MMSchema\n",
    "import abc_schema\n",
    "import marshmallow as mm # type: ignore\n",
    "import dataclasses\n",
    "import datetime"
   ]
  },
  {
   "cell_type": "code",
   "execution_count": 15,
   "metadata": {},
   "outputs": [],
   "source": [
    "class Person(SchemedObject):\n",
    "\n",
    "    class Schema(MMSchema):\n",
    "        name = mm.fields.Str(required=True)\n",
    "        email = mm.fields.Email(missing=None)\n",
    "        sex = mm.fields.Str(validate=mm.fields.validate.OneOf(('m','f','o','?')),missing='?')\n",
    "        education = mm.fields.Dict(values=mm.fields.Date(), keys=mm.fields.Str(),payload='field metadata')\n",
    "\n",
    "    __annotations__ = Schema().as_annotations()\n",
    "\n",
    "p=Person()"
   ]
  },
  {
   "cell_type": "code",
   "execution_count": 6,
   "metadata": {},
   "outputs": [
    {
     "data": {
      "text/plain": [
       "{'name': str,\n",
       " 'email': str,\n",
       " 'sex': str,\n",
       " 'education': typing.Dict[str, datetime.date]}"
      ]
     },
     "execution_count": 6,
     "metadata": {},
     "output_type": "execute_result"
    }
   ],
   "source": [
    "{se.get_name() : se.get_python_type() for se in p.__get_schema__()}"
   ]
  },
  {
   "cell_type": "code",
   "execution_count": 18,
   "metadata": {},
   "outputs": [],
   "source": [
    "s = p.__get_schema__()\n",
    "assert s.fields['name'].get_schema() is s # get schema from element\n",
    "assert s.fields['education'].get_metadata() == {'payload': 'field metadata'} # get metadata"
   ]
  },
  {
   "cell_type": "markdown",
   "metadata": {},
   "source": [
    "We can also define a data class:"
   ]
  },
  {
   "cell_type": "code",
   "execution_count": 7,
   "metadata": {},
   "outputs": [],
   "source": [
    "@dataclasses.dataclass\n",
    "class DCPerson(Person):\n",
    "     __annotations__ = Person.Schema().as_field_annotations()"
   ]
  },
  {
   "cell_type": "code",
   "execution_count": 11,
   "metadata": {},
   "outputs": [],
   "source": [
    "dcp = DCPerson(name='Martin',email='mgf@acm.org',sex='m',education={\"Gymnasium Raemibuehl\": datetime.date(1981, 9, 1)})"
   ]
  },
  {
   "cell_type": "code",
   "execution_count": 12,
   "metadata": {},
   "outputs": [
    {
     "data": {
      "text/plain": [
       "DCPerson(name='Martin', email='mgf@acm.org', sex='m', education={'Gymnasium Raemibuehl': datetime.date(1981, 9, 1)})"
      ]
     },
     "execution_count": 12,
     "metadata": {},
     "output_type": "execute_result"
    }
   ],
   "source": [
    "dcp"
   ]
  },
  {
   "cell_type": "code",
   "execution_count": 13,
   "metadata": {},
   "outputs": [],
   "source": [
    "dcp_s = dcp.__get_schema__()"
   ]
  },
  {
   "cell_type": "code",
   "execution_count": 14,
   "metadata": {},
   "outputs": [],
   "source": [
    "j = dcp_s.to_external(dcp,abc_schema.WellknownRepresentation.json)"
   ]
  },
  {
   "cell_type": "code",
   "execution_count": 15,
   "metadata": {},
   "outputs": [
    {
     "data": {
      "text/plain": [
       "'{\"education\": {\"Gymnasium Raemibuehl\": \"1981-09-01\"}, \"email\": \"mgf@acm.org\", \"name\": \"Martin\", \"sex\": \"m\"}'"
      ]
     },
     "execution_count": 15,
     "metadata": {},
     "output_type": "execute_result"
    }
   ],
   "source": [
    "j"
   ]
  },
  {
   "cell_type": "code",
   "execution_count": 16,
   "metadata": {},
   "outputs": [],
   "source": [
    "o = dcp_s.from_external(j,abc_schema.WellknownRepresentation.json)"
   ]
  },
  {
   "cell_type": "code",
   "execution_count": 17,
   "metadata": {},
   "outputs": [
    {
     "data": {
      "text/plain": [
       "DCPerson(name='Martin', email='mgf@acm.org', sex='m', education={'Gymnasium Raemibuehl': datetime.date(1981, 9, 1)})"
      ]
     },
     "execution_count": 17,
     "metadata": {},
     "output_type": "execute_result"
    }
   ],
   "source": [
    "dcp_s.validate_internal(dcp)"
   ]
  },
  {
   "cell_type": "markdown",
   "metadata": {},
   "source": [
    "### MyPy static type checking"
   ]
  },
  {
   "cell_type": "markdown",
   "metadata": {},
   "source": [
    "Note that MyPy currently cannot check type definitions returned by functions and methods (definitions, not the return type itself). However, MyPy has a [plugin mechanism](http://mypy-lang.blogspot.com/2019/03/extending-mypy-with-plugins.html) that should support such calculated types. "
   ]
  },
  {
   "cell_type": "code",
   "execution_count": 19,
   "metadata": {},
   "outputs": [
    {
     "name": "stdout",
     "output_type": "stream",
     "text": [
      "marshmallow_schema.py:56: error: Invalid type \"kt\"\n",
      "marshmallow_schema.py:56: error: Invalid type \"vt\"\n",
      "marshmallow_example.py:31: error: Unexpected keyword argument \"name\" for \"DCPerson\"\n",
      "marshmallow_example.py:31: error: Unexpected keyword argument \"email\" for \"DCPerson\"\n",
      "marshmallow_example.py:31: error: Unexpected keyword argument \"sex\" for \"DCPerson\"\n",
      "marshmallow_example.py:31: error: Unexpected keyword argument \"education\" for \"DCPerson\"\n"
     ]
    }
   ],
   "source": [
    "!mypy marshmallow_example.py"
   ]
  },
  {
   "cell_type": "markdown",
   "metadata": {},
   "source": [
    "### Conclusion"
   ]
  },
  {
   "cell_type": "markdown",
   "metadata": {},
   "source": [
    "Using Marshmallow through the protocol is not easier than using the standard Marshmallow API. However, if in a Marshmallow \n",
    "Schema one needs to refer to some Schemas in Django or SQLAlchemy, interoperability becomes key."
   ]
  }
 ],
 "metadata": {
  "kernelspec": {
   "display_name": "Python 3",
   "language": "python",
   "name": "python3"
  },
  "language_info": {
   "codemirror_mode": {
    "name": "ipython",
    "version": 3
   },
   "file_extension": ".py",
   "mimetype": "text/x-python",
   "name": "python",
   "nbconvert_exporter": "python",
   "pygments_lexer": "ipython3",
   "version": "3.7.2"
  }
 },
 "nbformat": 4,
 "nbformat_minor": 2
}
