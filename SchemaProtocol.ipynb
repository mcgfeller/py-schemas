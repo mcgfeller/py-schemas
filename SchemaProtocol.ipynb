{
 "cells": [
  {
   "cell_type": "markdown",
   "metadata": {},
   "source": [
    "# A minimal standard for interoperable Schemas"
   ]
  },
  {
   "cell_type": "markdown",
   "metadata": {},
   "source": [
    "The **minimal standard** is defined as a Protocol, with some Abstract Base Classes. The protocol is minimal in that it provides for the most common [Use Cases](https://github.com/mcgfeller/py-schemas/blob/master/UseCases.md):\n",
    "* Serialization to an external representation\n",
    "* Deserialization from an external representation\n",
    "* Validation\n",
    "* Attach a Schema to an object class, and vice versa.\n",
    "* Obtaining Schema elements\n",
    "* Static type checking\n",
    "  * Get the Python type of a schema element \n",
    "* Minimal Schema transformation:\n",
    "  * Get a Type Annotation [PEP 593](https://www.python.org/dev/peps/pep-0593) from a Schema Element. If provided, the _Schema Type Annotation_ is standardized, ensuring interoperability of a schema element.\n",
    "  * Construct a a Schema element from a Schema Type Annotation. \n",
    "  * Construct a Schema from another Schema (from another Schema solution) by going through the Schema Type Annotation for each element. \n",
    "* Associate data with Schema\n",
    "\n",
    "*The protocol doesn't provide a standard representation for Schemas or Schema Elements; it only provides standard access and use.* It does provide minimal conversion of arbitrary Schema features between schema libraries, as it provides conversion to Python static types and Type Annotations [PEP 593](https://www.python.org/dev/peps/pep-0593). See [Alternatives considered](alternatives.md).\n",
    "\n",
    "Using the Protocol for a single schema solution, such as **[Marshmallow](https://marshmallow.readthedocs.io/en/latest/)**, does not provide facilities superior to native usage. However, if the protocol is implemented by several libraries, integration of libraries using different schema facilities becomes much easier. The [Marshmallow ecosystem](https://github.com/marshmallow-code/marshmallow/wiki/Ecosystem) lists a few integrations (adaptions) to other libraries using Schemas (JSON, dataclasses, SQL Alchemy), each being a once-off ad-hoc solution. If a solution conforms to the standard, no adaption to other solutions will be required. \n",
    "\n",
    "Depending on the Schema solution, writing an adapter to the protocol is easy or harder; new solutions may implement the protocol directly, whih should be easier. \n"
   ]
  },
  {
   "cell_type": "code",
   "execution_count": 1,
   "metadata": {},
   "outputs": [],
   "source": [
    "import abc\n",
    "import typing\n",
    "import typing_extensions\n",
    "import collections.abc\n",
    "import enum"
   ]
  },
  {
   "cell_type": "markdown",
   "metadata": {},
   "source": [
    "First, an entirely optional, a class providing a protocol to associate a Schema with a class, without constraining too much how things are composed. We only mandate that if a Schema is assigned to a subclass of `SchemedObject`, the Schema can be retrieved by `.__get_schema__()`. "
   ]
  },
  {
   "cell_type": "code",
   "execution_count": 2,
   "metadata": {},
   "outputs": [],
   "source": [
    "class SchemedObject(metaclass=abc.ABCMeta):\n",
    "    \"\"\" An object with a Schema, supporting the __get_schema__ method.\n",
    "        It is completly optional, but very convenient to have the schema\n",
    "        accessible from each schemed object. \n",
    "    \"\"\"\n",
    "\n",
    "    @classmethod\n",
    "    @abc.abstractmethod\n",
    "    def __get_schema__(cls) -> \"AbstractSchema\":\n",
    "        pass"
   ]
  },
  {
   "cell_type": "markdown",
   "metadata": {},
   "source": [
    "To standardize on representations into which we serialize, we enumerate a few, so we can use them as enum. "
   ]
  },
  {
   "cell_type": "code",
   "execution_count": 3,
   "metadata": {},
   "outputs": [],
   "source": [
    "class WellknownRepresentation(enum.Enum):\n",
    "    \"\"\" Standard way to designate external representations. This can be subclassed to add represenations,\n",
    "        but these are prescribed by the protocol.\n",
    "        The member value should be the MIME type, where one exists. \n",
    "    \"\"\"\n",
    "\n",
    "    python  = \"__python__\"  # internal python structures\n",
    "    pickle  = \"application/python-pickle\"\n",
    "    json    = \"application/json\"\n",
    "    xml     = \"application/xml\"\n",
    "    sql     = \"application/sql\"\n",
    "    html    = \"text/html\""
   ]
  },
  {
   "cell_type": "markdown",
   "metadata": {},
   "source": [
    "The minimal protocol for a Schema defines it as an Iterable, yielding Schema Elements, having a set of representations it supports, and methods to convert to and from external representations. The ``.__objclass__`` class variable optionally points back to the class for which this Schema is defined. \n",
    "\n",
    "We want the Schema to be useful for type declarations, so `.get_annotations()` returns a dictionary usable as `__annotations__` in a class. If `include_extras` (following [PEP 593](https://www.python.org/dev/peps/pep-0593)) is set, annotated types are returned. Unfortunately, the Python `typing` module assumes `__annotations__` to be a dictionary, instead of allowing a callable returning annotations, so I don't think this can be done more elegantly. \n",
    "\n",
    "We also have a `.get_metadata()` method defined both on the Schema and the Schema Element. Metadata is not used at all by the Schema, and is provided as a third-party extension mechanism. Multiple third-parties can each have their own key, to use as a namespace in the metadata. This is similar to and taken from [dataclasses.Field](https://docs.python.org/3/library/dataclasses.html#dataclasses.field).\n",
    "\n",
    "The `writer_callback` argument in `.to_external()` and the `external` in `.from_external()` are inspired by the consumer API of [PEP-574](https://www.python.org/dev/peps/pep-0574/#consumer-api). The support arbitrary callables to receive or source the external representation, respectively; if not supplied, the external representation is returned or input as a string argument, respectively. \n",
    "\n",
    "The optional methods `.from_schema()` and `.add_element()` support the creation of a Schema and adding elements from another Schema (from another solution). They must not assume any representation of the source schema, apart from the one exposed in this protocol. "
   ]
  },
  {
   "cell_type": "code",
   "execution_count": 4,
   "metadata": {},
   "outputs": [],
   "source": [
    "class AbstractSchema(collections.abc.Iterable):\n",
    "    \"\"\" The AbstractSchema does not prescribe how the Schema is organized, and\n",
    "        only prescribes that the AbstractSchemaElement may be obtained by iterating\n",
    "        over the Schema.\n",
    "\n",
    "        It defines methods to transform a SchemedObject to an external representation,\n",
    "        and vice versa. \n",
    "\n",
    "        It also defines method to get annotations, and to create a Schema from\n",
    "        another AbstractSchema. \n",
    "\n",
    "        The __objclass__ optionally contains the class this is the Schema, for\n",
    "        so schema.__objclass__.__get_schema__() is schema. This may be used to\n",
    "        recreate objects when transforming from excternal representations.  \n",
    "    \"\"\"\n",
    "\n",
    "    SupportedRepresentations: typing.ClassVar[typing.Set[\"WellknownRepresentation\"]] = {\n",
    "        WellknownRepresentation.python\n",
    "    }\n",
    "\n",
    "    SupportsCallableIO: typing.ClassVar[\n",
    "        bool\n",
    "    ] = False  # must be overwritten if callable input / output is supported\n",
    "\n",
    "    __objclass__: typing.ClassVar[typing.Optional[\n",
    "        typing.Type]] = None  # class of the corresponding object\n",
    "\n",
    "    def get_name(self) -> typing.Optional[str]:\n",
    "        \"\"\" get name of Schema or None \"\"\"\n",
    "        return getattr(self, \"name\", None)\n",
    "\n",
    "    @abc.abstractmethod\n",
    "    def to_external(\n",
    "        self,\n",
    "        obj: SchemedObject,\n",
    "        destination: WellknownRepresentation,\n",
    "        writer_callback: typing.Optional[typing.Callable] = None,\n",
    "        **params,\n",
    "    ) -> typing.Optional[typing.Any]:\n",
    "        \"\"\" Method to convert a SchemedObject (or Python structure in general)\n",
    "            to the external representation according to destination. \n",
    "\n",
    "            If *writer_callback* is None (the default), the external representation\n",
    "            is returned as result.\n",
    "\n",
    "            If *writer_callback* is not None, then it can be called any number\n",
    "            of times with some arguments. No result is returned.\n",
    "\n",
    "            (inspired by PEP-574 https://www.python.org/dev/peps/pep-0574/#producer-api)\n",
    "        \"\"\"\n",
    "        self.check_supported_output(destination, writer_callback)\n",
    "        pass\n",
    "\n",
    "    @abc.abstractmethod\n",
    "    def from_external(\n",
    "        self,\n",
    "        external: typing.Union[typing.Any, typing.Callable],\n",
    "        source: WellknownRepresentation,\n",
    "        **params,\n",
    "    ) -> SchemedObject:\n",
    "        \"\"\" Method to convert an external representation according to source\n",
    "            to a SchemedObject (or Python structure in general).\n",
    "\n",
    "            If *external* is bytes, they are consumed as source representation.\n",
    "\n",
    "            If *external* is a Callable, then it can be called any number\n",
    "            of times with some arguments to obtain parts of the source representation.\n",
    "\n",
    "        \"\"\"\n",
    "        self.check_supported_input(source, external)\n",
    "        pass\n",
    "\n",
    "    @abc.abstractmethod\n",
    "    def validate_internal(self, obj: SchemedObject, **params) -> SchemedObject:\n",
    "        \"\"\" Method to validate that SchemedObject (or Python structure in general)\n",
    "            conforms to this schema. Either returns the (possibly converted) SchemedObject\n",
    "            or raises a ValidationError.\n",
    "        \"\"\"\n",
    "        return obj\n",
    "\n",
    "    @classmethod\n",
    "    def check_supported_input(\n",
    "        cls,\n",
    "        source: WellknownRepresentation,\n",
    "        external: typing.Union[typing.Any, typing.Callable],\n",
    "    ):\n",
    "        \"\"\" check whether representation is supported, raise an error otherwise \"\"\"\n",
    "        if source not in cls.SupportedRepresentations:\n",
    "            raise NotImplementedError(\n",
    "                f\"Input representation {source} not supported; choose one of {', '.join([str(r) for r in cls.SupportedRepresentations])}\"\n",
    "            )\n",
    "        if not cls.SupportsCallableIO and callable(external):\n",
    "            raise NotImplementedError(f\"Callable input not supported by {cls.__name__}\")\n",
    "\n",
    "        return\n",
    "\n",
    "    @classmethod\n",
    "    def check_supported_output(\n",
    "        cls,\n",
    "        destination: WellknownRepresentation,\n",
    "        writer_callback: typing.Optional[typing.Callable] = None,\n",
    "    ):\n",
    "        \"\"\" check whether representation is supported, raise an error otherwise \"\"\"\n",
    "        if destination not in cls.SupportedRepresentations:\n",
    "            raise NotImplementedError(\n",
    "                f\"Input representation {destination} not supported; choose one of {', '.join([str(r) for r in cls.SupportedRepresentations])}\"\n",
    "            )\n",
    "        if not cls.SupportsCallableIO and writer_callback is not None:\n",
    "            raise NotImplementedError(\n",
    "                f\"Callable output not supported by {cls.__name__}\"\n",
    "            )\n",
    "\n",
    "        return\n",
    "\n",
    "    @abc.abstractmethod\n",
    "    def __iter__(self) -> typing.Iterator[\"AbstractSchemaElement\"]:\n",
    "        \"\"\" iterator through SchemaElements in this Schema \"\"\"\n",
    "        pass\n",
    "\n",
    "    def get_annotations(\n",
    "        self, include_extras: bool = False\n",
    "    ) -> typing.Dict[str, typing.Type]:\n",
    "        \"\"\" return Schema Elements in annotation format.\n",
    "            If include_extras (PEP-593) is True, the types returned are typing.Annotated types.\n",
    "\n",
    "            Use as class.__annotations__ = schema.get_annotations()\n",
    "            I would wish that __annotations__ is a protocol that can be provided,\n",
    "            instead of simply assuming it is a mapping. \n",
    "        \"\"\"\n",
    "        return {\n",
    "            se.get_name(): se.get_annotated()\n",
    "            if include_extras\n",
    "            else se.get_python_type()\n",
    "            for se in self\n",
    "        }\n",
    "\n",
    "    def get_metadata(self) -> typing.Mapping[str, typing.Any]:\n",
    "        \"\"\" return metadata (aka payload data) for this Schema.\n",
    "\n",
    "            Meta data is not used at all by the Schema, and is provided as a third-party \n",
    "            extension mechanism. Multiple third-parties can each have their own key, \n",
    "            to use as a namespace in the metadata.\n",
    "            (similar to and taken from dataclasses.Field)\n",
    "\n",
    "            Can be refined; by default an empty dict is returned.\n",
    "\n",
    "            There is a similar method defined on the AbstractSchemaElement for\n",
    "            smetadata attached to a schema element. \n",
    "        \"\"\"\n",
    "        return {}\n",
    "\n",
    "    @classmethod\n",
    "    @abc.abstractmethod\n",
    "    def from_schema(cls, schema: \"AbstractSchema\") -> \"AbstractSchema\":\n",
    "        \"\"\" Create a new Schema (in the Schema dialect of the cls) from\n",
    "            a schema in any Schema Dialect.\n",
    "        \"\"\"\n",
    "        pass\n",
    "\n",
    "    def add_element(self, element: \"AbstractSchemaElement\") -> \"AbstractSchemaElement\":\n",
    "        \"\"\" Optional API: Add a Schema element (in any Schema Dialect) to this Schema\n",
    "            and returns the created element. \n",
    "        \"\"\"\n",
    "        raise NotAvailable\n"
   ]
  },
  {
   "cell_type": "markdown",
   "metadata": {},
   "source": [
    "We finish the minimal protocol by defining a Schema Element. It supports a back reference to its Schema, and two methods to get the Schema Element's name and its Python type and Type Annotation.\n",
    "\n",
    "The optional method `.from_schema_element()` supports the creation of a SchemaElement and adding elements from another SchemaElement (from another solution). They must not assume any representation of the source SchemaElement, apart from the one exposed in this protocol (notably its `SchemaTypeAnnotation`.). \n",
    "\n",
    "*Implementation hints:* \n",
    " - Use `.get_python_type()` and `.get_annotation()` to retrieve the data from a SchemaElement, and construct a SchemaElement from the Field.\n",
    " - If argument `schema_element` is from your Schema solution, you may return it unchanged. \n"
   ]
  },
  {
   "cell_type": "code",
   "execution_count": 5,
   "metadata": {},
   "outputs": [],
   "source": [
    "class AbstractSchemaElement(metaclass=abc.ABCMeta):\n",
    "    \"\"\" Holds one SchemaElement of a Schema. No represenation is prescribed, hence there is no constructor.\n",
    "        The SchemaTypeAnnotation, however, prescribes a representation. It can either be attached to the \n",
    "        SchemaElement, or generated from it when queried by .get_annotation(). \n",
    "    \"\"\"\n",
    "\n",
    "    @abc.abstractmethod\n",
    "    def get_schema(self) -> typing.Optional[AbstractSchema]:\n",
    "        \"\"\" get associated schema or None \"\"\"\n",
    "        pass\n",
    "\n",
    "    @abc.abstractmethod\n",
    "    def get_name(self) -> str:\n",
    "        \"\"\" get name useable as variable name \"\"\"\n",
    "        pass\n",
    "\n",
    "    @abc.abstractmethod\n",
    "    def get_python_type(self) -> type:\n",
    "        \"\"\" get Python type of this AbstractSchemaElement \"\"\"\n",
    "        pass\n",
    "\n",
    "    @abc.abstractmethod\n",
    "    def get_annotation(self) -> typing.Optional[\"SchemaTypeAnnotation\"]:\n",
    "        \"\"\" Optional: get SchemaTypeAnnotation of this AbstractSchemaElement \"\"\"\n",
    "        pass\n",
    "\n",
    "    def get_metadata(self) -> typing.Mapping[str, typing.Any]:\n",
    "        \"\"\" return metadata (aka payload data) for this SchemaElement.\n",
    "\n",
    "            Metadata is not used at all by the Schema, and is provided as a third-party \n",
    "            extension mechanism. Multiple third-parties can each have their own key, \n",
    "            to use as a namespace in the metadata.\n",
    "            (similar to and taken from dataclasses.Field)\n",
    "\n",
    "            Can be refined; by default an empty dict is returned.\n",
    "        \"\"\"\n",
    "        return {}\n",
    "\n",
    "    @classmethod\n",
    "    @abc.abstractmethod\n",
    "    def from_schema_element(\n",
    "        cls,\n",
    "        schema_element: \"AbstractSchemaElement\",\n",
    "        parent_schema: typing.Optional[AbstractSchema] = None,\n",
    "    ) -> \"AbstractSchemaElement\":\n",
    "        \"\"\" Optional API: create a new AbstractSchemaElement (in the Schema dialect of the cls) from\n",
    "            a AbstractSchemaElement in any Schema Dialect.\n",
    "            parent_schema is the new schema parent of the element. \n",
    "        \"\"\"\n",
    "        pass\n",
    "\n",
    "    def get_annotated(self) -> type:\n",
    "        \"\"\" get PEP-593 typing.Annotated type \"\"\"\n",
    "        return typing_extensions.Annotated[\n",
    "            self.get_python_type(), self.get_annotation()\n",
    "        ]\n"
   ]
  },
  {
   "cell_type": "markdown",
   "metadata": {},
   "source": [
    "It is convenient to have a standardized object representing a missing value, which is distinct from `None`, which may be a valid value (in particular, a valid default)."
   ]
  },
  {
   "cell_type": "code",
   "execution_count": 6,
   "metadata": {},
   "outputs": [],
   "source": [
    "class _MISSING_TYPE:\n",
    "    \"\"\" A sentinel object to detect if a parameter is supplied or not.  Use a class to give it a better repr. \"\"\"\n",
    "\n",
    "    def __repr__(self):\n",
    "        return \"MISSING\"\n",
    "\n",
    "MISSING = _MISSING_TYPE()"
   ]
  },
  {
   "cell_type": "markdown",
   "metadata": {},
   "source": [
    "The _Schema Type Annotation_ is the annotation in [PEP-593](https://www.python.org/dev/peps/pep-0593/)'s `typing_extensions.Annotated[type,annotation]`. It is defined concretly, and serves as the interoperability mechanism between elements of different Schema solutions. The functionality is desinged to be extensible, but fulfill the main use cases:"
   ]
  },
  {
   "cell_type": "code",
   "execution_count": 7,
   "metadata": {},
   "outputs": [],
   "source": [
    "class SchemaTypeAnnotation:\n",
    "    \"\"\" Annotation holding SchemaElement typing information to go as 2nd parameter into typing_extensions.Annotated.\n",
    "        Unlike the AbstractSchemaElement, the SchemaTypeAnnotation is concrete and prescribes a minimal representation.\n",
    "\n",
    "        A subclass of AbstractSchema may or may not use the to_external, from_external or validate_internal\n",
    "        methods, at its convience. It may have its own transformation approach, for example working on the whole object\n",
    "        at once instead of at the element level. \n",
    "\n",
    "        \n",
    "    \"\"\"\n",
    "\n",
    "    def __init__(\n",
    "        self,\n",
    "        required: bool = False,\n",
    "        default: typing.Any = MISSING,\n",
    "        to_external: typing.Optional[typing.Callable] = None,\n",
    "        from_external: typing.Optional[typing.Callable] = None,\n",
    "        validate_internal: typing.Optional[typing.Callable] = None,\n",
    "        metadata: typing.Mapping[str, typing.Any] = {},\n",
    "    ):\n",
    "        \"\"\" SchemaTypeAnnotation \n",
    "            default is the internal form of the default value, or MISSING\n",
    "            from_external, to_external and validate_internal are callables with signature of the methods below, which they overwrite.\n",
    "        \"\"\"\n",
    "        self.required = required\n",
    "        self.default = default\n",
    "        if to_external is not None:\n",
    "            self.to_external = to_external\n",
    "        if from_external is not None:\n",
    "            self.from_external = from_external\n",
    "        if validate_internal is not None:\n",
    "            self.validate_internal = validate_internal\n",
    "        self.metadata = metadata\n",
    "\n",
    "    def __repr__(self):\n",
    "        return f\"{self.__class__.__name__}(required={self.required}, default={self.default})\"\n",
    "\n",
    "    @staticmethod  # can be overritten by passing a function to the constructor\n",
    "    def to_external(\n",
    "        annotation: \"SchemaTypeAnnotation\",\n",
    "        schemaElement: AbstractSchemaElement,\n",
    "        value: typing.Any,\n",
    "        destination: WellknownRepresentation,\n",
    "        writer_callback: typing.Optional[typing.Callable] = None,\n",
    "        **params,\n",
    "    ) -> typing.Optional[typing.Any]:\n",
    "        \"\"\" Externalize value in schemaElement to destination.\n",
    "            The arguments are the same as in AbstractSchema.to_external(). Params must be passed down. \n",
    "        \"\"\"\n",
    "        pass\n",
    "\n",
    "    @staticmethod  # can be overritten by passing a function to the constructor\n",
    "    def from_external(\n",
    "        annotation: \"SchemaTypeAnnotation\",\n",
    "        schemaElement: AbstractSchemaElement,\n",
    "        external: typing.Union[typing.Any, typing.Callable],\n",
    "        source: WellknownRepresentation,\n",
    "        **params,\n",
    "    ) -> typing.Any:\n",
    "        \"\"\" Internalize and validate data from external source. Returns internal form, or raises error.\n",
    "            The arguments are the same as in AbstractSchema.from_external(). Params must be passed down. \n",
    "        \"\"\"\n",
    "        pass\n",
    "\n",
    "    @staticmethod  # can be overritten by passing a function to the constructor\n",
    "    def validate_internal(\n",
    "        annotation: \"SchemaTypeAnnotation\",\n",
    "        schemaElement: AbstractSchemaElement,\n",
    "        value: typing.Any,\n",
    "        **params,\n",
    "    ) -> typing.Any:\n",
    "        \"\"\" Validation method, to transform value and validate it. Returns internal form (possibly unchanged value), or raises error.\n",
    "            The arguments are the same as in AbstractSchema.from_external(). Params must be passed down. \n",
    "\n",
    "            Default implementation:\n",
    "            \n",
    "            Passes external to schemaElement.get_python_type() by default.\n",
    "        \"\"\"\n",
    "        if not value:\n",
    "            if annotation.default is not MISSING:\n",
    "                value = annotation.default\n",
    "            elif annotation.required:\n",
    "                raise ValidationError(\n",
    "                    f\"required element {schemaElement.get_name()} must be supplied\"\n",
    "                )\n",
    "        else:\n",
    "            pt = schemaElement.get_python_type()\n",
    "            basetype = (\n",
    "                typing.get_origin(pt) or pt\n",
    "            )  # typing type.__origin__ is Python class\n",
    "            try:\n",
    "                value = basetype(value)\n",
    "            except Exception as e:\n",
    "                raise ValidationError(str(e), original_error=e)\n",
    "        return value\n"
   ]
  },
  {
   "cell_type": "markdown",
   "metadata": {},
   "source": [
    "Finally, standardizing some errors helps to use several Schema solutions in one code base:"
   ]
  },
  {
   "cell_type": "code",
   "execution_count": 8,
   "metadata": {},
   "outputs": [],
   "source": [
    "class SchemaError(Exception):\n",
    "    \"\"\" Base class for all schema-related errors. \n",
    "        The original_error can be used to pass in the error raised by an underlying implementation.\n",
    "    \"\"\"\n",
    "\n",
    "    def __init__(self, message, original_error=None):\n",
    "        self.message = message\n",
    "        self.original_error = original_error\n",
    "        return\n",
    "\n",
    "\n",
    "class ValidationError(SchemaError, ValueError):\n",
    "    \"\"\" Denotes invalid data \"\"\"\n",
    "\n",
    "    ..."
   ]
  },
  {
   "cell_type": "markdown",
   "metadata": {},
   "source": [
    " \n",
    "\n"
   ]
  },
  {
   "cell_type": "markdown",
   "metadata": {},
   "source": [
    "# Example Schema solutions "
   ]
  },
  {
   "cell_type": "markdown",
   "metadata": {},
   "source": [
    "I have developed adapters to two schema solutions and will show some examples:\n",
    "- [Marshmallow](https://marshmallow.readthedocs.io/en/latest/) - a full-featured, well-engineered, stand-alone library supporting serialization to Python natives types and JSON: [marshmallow_schema.py](marshmallow_schema.py)\n",
    "- [Dataclasses](https://docs.python.org/3/library/dataclasses.html) - a minimal Schema solution relying on types, provided in the standard library: [dataclasses_schema.py](dataclasses_schema.py). "
   ]
  },
  {
   "cell_type": "markdown",
   "metadata": {},
   "source": [
    "## Marshmallow "
   ]
  },
  {
   "cell_type": "markdown",
   "metadata": {},
   "source": [
    "The SchemedObject can be used a superclass for Python objects with an associated Schema. By convention of this implementation, the Schema is obtained as an inner class named Schema.\n",
    "\n",
    "The Schema is instantiated and cached as `.__schema`. It also sets `__objclass__` in the schema of a class to that class, so `MMSchema.object_factory()` can recreate the actual class instance. I prefer this over a Marshmallow `post_load()` decorator, because that needs to be defined on the Schema (however, this is not part of the protocol, but of my adaption to Marshmallow). "
   ]
  },
  {
   "cell_type": "code",
   "execution_count": 9,
   "metadata": {},
   "outputs": [],
   "source": [
    "from marshmallow_schema import SchemedObject, MMSchema\n",
    "import abc_schema\n",
    "import marshmallow as mm  # type: ignore\n",
    "import datetime\n",
    "import typing"
   ]
  },
  {
   "cell_type": "markdown",
   "metadata": {},
   "source": [
    "Using the `marshmallow_schema.MMSchema` and `marshmallow_schema.SchemedObject`, we declare a Person class with a Marshmallow Schema:"
   ]
  },
  {
   "cell_type": "code",
   "execution_count": 10,
   "metadata": {},
   "outputs": [],
   "source": [
    "class Person(SchemedObject):\n",
    "    class Schema(MMSchema):\n",
    "        name = mm.fields.Str(required=True)\n",
    "        email = mm.fields.Email(missing=None)\n",
    "        dob = mm.fields.Date(missing=None)\n",
    "        sex = mm.fields.Str(validate=mm.fields.validate.OneOf(\n",
    "            (\"m\", \"f\", \"o\", \"?\")),\n",
    "                            missing=\"?\")\n",
    "        education = mm.fields.Dict(keys=mm.fields.Str(),\n",
    "                                   values=mm.fields.Date(),\n",
    "                                   payload=\"field metadata\",\n",
    "                                   missing=dict)\n",
    "        employed = mm.fields.Bool(missing=False)\n",
    "        hobbies = mm.fields.List(mm.fields.Str(), missing=list)\n",
    "\n",
    "    def __init__(self, **kw):\n",
    "        self.__dict__.update(kw)\n",
    "\n",
    "p = Person()"
   ]
  },
  {
   "cell_type": "markdown",
   "metadata": {},
   "source": [
    "We can iterate over the Schema to obtain the Schema Elements:"
   ]
  },
  {
   "cell_type": "code",
   "execution_count": 11,
   "metadata": {},
   "outputs": [
    {
     "data": {
      "text/plain": "{'name': str,\n 'email': str,\n 'dob': datetime.date,\n 'sex': str,\n 'education': typing.Dict[str, datetime.date],\n 'employed': bool,\n 'hobbies': typing.List[str]}"
     },
     "execution_count": 11,
     "metadata": {},
     "output_type": "execute_result"
    }
   ],
   "source": [
    "{se.get_name(): se.get_python_type() for se in p.__get_schema__()}"
   ]
  },
  {
   "cell_type": "markdown",
   "metadata": {},
   "source": [
    "Or get the annotations as `Annotated` types, with the standard `SchemaTypeAnnotation`:"
   ]
  },
  {
   "cell_type": "code",
   "execution_count": 12,
   "metadata": {},
   "outputs": [
    {
     "data": {
      "text/plain": "{'name': typing_extensions.Annotated[str, SchemaTypeAnnotation(required=True, default=MISSING)],\n 'email': typing_extensions.Annotated[str, SchemaTypeAnnotation(required=False, default=None)],\n 'dob': typing_extensions.Annotated[datetime.date, SchemaTypeAnnotation(required=False, default=None)],\n 'sex': typing_extensions.Annotated[str, SchemaTypeAnnotation(required=False, default=?)],\n 'education': typing_extensions.Annotated[typing.Dict[str, datetime.date], SchemaTypeAnnotation(required=False, default=<class 'dict'>)],\n 'employed': typing_extensions.Annotated[bool, SchemaTypeAnnotation(required=False, default=False)],\n 'hobbies': typing_extensions.Annotated[typing.List[str], SchemaTypeAnnotation(required=False, default=<class 'list'>)]}"
     },
     "execution_count": 12,
     "metadata": {},
     "output_type": "execute_result"
    }
   ],
   "source": [
    "p.__get_schema__().get_annotations(include_extras=True)"
   ]
  },
  {
   "cell_type": "markdown",
   "metadata": {},
   "source": [
    "Fields refer back to their Schema:"
   ]
  },
  {
   "cell_type": "code",
   "execution_count": 13,
   "metadata": {},
   "outputs": [],
   "source": [
    "s = p.__get_schema__()\n",
    "assert s.fields[\"name\"].get_schema() is s\n",
    "assert s.fields[\"education\"].get_metadata() == {\"payload\": \"field metadata\"}"
   ]
  },
  {
   "cell_type": "markdown",
   "metadata": {},
   "source": [
    "We can validate it - we haven't filled any fields, so expect a validation error:"
   ]
  },
  {
   "cell_type": "code",
   "execution_count": 14,
   "metadata": {},
   "outputs": [
    {
     "name": "stdout",
     "output_type": "stream",
     "text": "ValidationError(\"{'name': ['Missing data for required field.']}\")\n"
    }
   ],
   "source": [
    "try:\n",
    "    s.validate_internal(p)\n",
    "except Exception as err:\n",
    "    print(repr(err))\n"
   ]
  },
  {
   "cell_type": "markdown",
   "metadata": {},
   "source": [
    "So let's created a better Person:"
   ]
  },
  {
   "cell_type": "code",
   "execution_count": 15,
   "metadata": {},
   "outputs": [
    {
     "data": {
      "text/plain": "<__main__.Person at 0x177dd8a7520>"
     },
     "execution_count": 15,
     "metadata": {},
     "output_type": "execute_result"
    }
   ],
   "source": [
    "person = Person(name='John Doe',email='john@doe.org',employed=True,sex='m',hobbies=['Python'])\n",
    "s.validate_internal(person)"
   ]
  },
  {
   "cell_type": "markdown",
   "metadata": {},
   "source": [
    "Let's export and import the `person` instance - to a Python dict, and to JSON:"
   ]
  },
  {
   "cell_type": "code",
   "execution_count": 16,
   "metadata": {},
   "outputs": [],
   "source": [
    "ext = s.to_external(person,destination=abc_schema.WellknownRepresentation.python)\n",
    "assert ext['sex'] == 'm' # ext is a dict\n",
    "person2 = s.from_external(ext,source=abc_schema.WellknownRepresentation.python)\n",
    "assert person2.sex == 'm' # person2 is an object again\n",
    "\n",
    "j = s.to_external(person,destination=abc_schema.WellknownRepresentation.json)\n",
    "person3 = s.from_external(j,source=abc_schema.WellknownRepresentation.json)\n",
    "assert person3.sex == 'm' # person3 is an object again"
   ]
  },
  {
   "cell_type": "markdown",
   "metadata": {},
   "source": [
    "## Dataclasses "
   ]
  },
  {
   "cell_type": "code",
   "execution_count": 17,
   "metadata": {},
   "outputs": [],
   "source": [
    "import dataclasses\n",
    "import dataclasses_schema\n",
    "import abc_schema"
   ]
  },
  {
   "cell_type": "markdown",
   "metadata": {},
   "source": [
    "Let's define a class:"
   ]
  },
  {
   "cell_type": "code",
   "execution_count": 18,
   "metadata": {},
   "outputs": [],
   "source": [
    "@dataclasses.dataclass\n",
    "class InventoryItem:\n",
    "    \"\"\" Test dataclass \"\"\"\n",
    "\n",
    "    name: str\n",
    "    unit_price: float\n",
    "    quantity_on_hand: int = 0\n",
    "\n",
    "    def total_cost(self) -> float:\n",
    "        return self.unit_price * self.quantity_on_hand"
   ]
  },
  {
   "cell_type": "markdown",
   "metadata": {},
   "source": [
    "And obtain a Schema:"
   ]
  },
  {
   "cell_type": "code",
   "execution_count": 19,
   "metadata": {},
   "outputs": [
    {
     "data": {
      "text/plain": "{'name': typing_extensions.Annotated[str, SchemaTypeAnnotation(required=True, default=MISSING)],\n 'unit_price': typing_extensions.Annotated[float, SchemaTypeAnnotation(required=True, default=MISSING)],\n 'quantity_on_hand': typing_extensions.Annotated[int, SchemaTypeAnnotation(required=False, default=0)]}"
     },
     "execution_count": 19,
     "metadata": {},
     "output_type": "execute_result"
    }
   ],
   "source": [
    "s = dataclasses_schema.DCSchema.get_schema(InventoryItem)\n",
    "s.get_annotations(include_extras=True)"
   ]
  },
  {
   "cell_type": "markdown",
   "execution_count": null,
   "metadata": {},
   "outputs": [],
   "source": [
    "Let's make a Marshmallow schema:"
   ]
  },
  {
   "cell_type": "code",
   "execution_count": 20,
   "metadata": {},
   "outputs": [
    {
     "data": {
      "text/plain": "{'unit_price': <fields.Float(default=<marshmallow.missing>, attribute=None, validate=None, required=True, load_only=False, dump_only=False, missing=<marshmallow.missing>, allow_none=False, error_messages={'required': 'Missing data for required field.', 'null': 'Field may not be null.', 'validator_failed': 'Invalid value.', 'invalid': 'Not a valid number.', 'too_large': 'Number too large.', 'special': 'Special numeric values (nan or infinity) are not permitted.'})>,\n 'quantity_on_hand': <fields.Integer(default=0, attribute=None, validate=None, required=False, load_only=False, dump_only=False, missing=0, allow_none=False, error_messages={'required': 'Missing data for required field.', 'null': 'Field may not be null.', 'validator_failed': 'Invalid value.', 'invalid': 'Not a valid integer.', 'too_large': 'Number too large.'})>,\n 'name': <fields.String(default=<marshmallow.missing>, attribute=None, validate=None, required=True, load_only=False, dump_only=False, missing=<marshmallow.missing>, allow_none=False, error_messages={'required': 'Missing data for required field.', 'null': 'Field may not be null.', 'validator_failed': 'Invalid value.', 'invalid': 'Not a valid string.', 'invalid_utf8': 'Not a valid utf-8 string.'})>}"
     },
     "execution_count": 20,
     "metadata": {},
     "output_type": "execute_result"
    }
   ],
   "source": [
    "mms = MMSchema.from_schema(s)\n",
    "mms.fields"
   ]
  },
  {
   "cell_type": "markdown",
   "execution_count": null,
   "metadata": {},
   "outputs": [],
   "source": [
    "As this is a Marshmallow Schema (derived from a Dataclass Schema), it supports export and import to JSON:"
   ]
  },
  {
   "cell_type": "code",
   "execution_count": 21,
   "metadata": {},
   "outputs": [],
   "source": [
    "ii = InventoryItem(name='widgets',unit_price=666,quantity_on_hand=42)\n",
    "j = mms.to_external(ii,destination=abc_schema.WellknownRepresentation.json)"
   ]
  },
  {
   "cell_type": "code",
   "execution_count": 22,
   "metadata": {},
   "outputs": [
    {
     "data": {
      "text/plain": "InventoryItem(name='widgets', unit_price=666.0, quantity_on_hand=42)"
     },
     "execution_count": 22,
     "metadata": {},
     "output_type": "execute_result"
    }
   ],
   "source": [
    "mms.from_external(j,source=abc_schema.WellknownRepresentation.json)"
   ]
  },
  {
   "cell_type": "markdown",
   "execution_count": 42,
   "metadata": {},
   "outputs": [
    {
     "ename": "SyntaxError",
     "evalue": "invalid syntax (<ipython-input-42-33ac2784dbbc>, line 1)",
     "output_type": "error",
     "traceback": [
      "\u001b[1;36m  File \u001b[1;32m\"<ipython-input-42-33ac2784dbbc>\"\u001b[1;36m, line \u001b[1;32m1\u001b[0m\n\u001b[1;33m    Now the other way round - make a Dataclass Schema from a Marshmallow Schema:\u001b[0m\n\u001b[1;37m        ^\u001b[0m\n\u001b[1;31mSyntaxError\u001b[0m\u001b[1;31m:\u001b[0m invalid syntax\n"
     ]
    }
   ],
   "source": [
    "Now the other way round - make a Dataclass Schema from a Marshmallow Schema:"
   ]
  },
  {
   "cell_type": "code",
   "execution_count": 23,
   "metadata": {},
   "outputs": [
    {
     "data": {
      "text/plain": "<dataclasses_schema.DCSchema at 0x177dd8c6bb0>"
     },
     "execution_count": 23,
     "metadata": {},
     "output_type": "execute_result"
    }
   ],
   "source": [
    "mms = Person.__get_schema__()\n",
    "dcs = dataclasses_schema.DCSchema.from_schema(mms)\n",
    "dcs\n"
   ]
  },
  {
   "cell_type": "markdown",
   "execution_count": null,
   "metadata": {},
   "outputs": [],
   "source": [
    "While Person is not a dataclass, `dcs.__objclass__` is actually a dataclass:"
   ]
  },
  {
   "cell_type": "code",
   "execution_count": 24,
   "metadata": {},
   "outputs": [],
   "source": [
    "assert not dataclasses.is_dataclass(Person) \n",
    "assert dataclasses.is_dataclass(dcs.__objclass__) "
   ]
  },
  {
   "cell_type": "markdown",
   "execution_count": null,
   "metadata": {},
   "outputs": [],
   "source": [
    "As it is a dataclass, we can instantiate it:"
   ]
  },
  {
   "cell_type": "code",
   "execution_count": 25,
   "metadata": {},
   "outputs": [
    {
     "data": {
      "text/plain": "Person(name='Alice Muster', education={}, hobbies=['Python'], email='alice@muster.de', dob=None, sex='x', employed=True)"
     },
     "execution_count": 25,
     "metadata": {},
     "output_type": "execute_result"
    }
   ],
   "source": [
    "pdc = dcs.__objclass__(name='Alice Muster',email='alice@muster.de',employed=True,sex='x',hobbies=['Python'])\n",
    "pdc"
   ]
  },
  {
   "cell_type": "markdown",
   "execution_count": null,
   "metadata": {},
   "outputs": [],
   "source": [
    "dataclasses without custom `__init__()` do not validate. But we have a Schema derived from a validating Marshmallow Schema, so we can validate without further ado:"
   ]
  },
  {
   "cell_type": "code",
   "execution_count": 26,
   "metadata": {},
   "outputs": [
    {
     "name": "stdout",
     "output_type": "stream",
     "text": "ValidationError(\"['Must be one of: m, f, o, ?.']\")\n"
    }
   ],
   "source": [
    "try:\n",
    "    dcs.validate_internal(pdc)\n",
    "except abc_schema.ValidationError as err:\n",
    "    print(repr(err))\n"
   ]
  },
  {
   "cell_type": "markdown",
   "execution_count": 63,
   "metadata": {},
   "outputs": [
    {
     "ename": "SyntaxError",
     "evalue": "invalid syntax (<ipython-input-63-27c3b658f72d>, line 1)",
     "output_type": "error",
     "traceback": [
      "\u001b[1;36m  File \u001b[1;32m\"<ipython-input-63-27c3b658f72d>\"\u001b[1;36m, line \u001b[1;32m1\u001b[0m\n\u001b[1;33m    Correct things:\u001b[0m\n\u001b[1;37m            ^\u001b[0m\n\u001b[1;31mSyntaxError\u001b[0m\u001b[1;31m:\u001b[0m invalid syntax\n"
     ]
    }
   ],
   "source": [
    "Correct things:"
   ]
  },
  {
   "cell_type": "code",
   "execution_count": 27,
   "metadata": {},
   "outputs": [
    {
     "data": {
      "text/plain": "Person(name='Alice Muster', education={}, hobbies=['Python'], email='alice@muster.de', dob=None, sex='f', employed=True)"
     },
     "execution_count": 27,
     "metadata": {},
     "output_type": "execute_result"
    }
   ],
   "source": [
    "pdc.sex = 'f'\n",
    "dcs.validate_internal(pdc)"
   ]
  },
  {
   "cell_type": "markdown",
   "execution_count": null,
   "metadata": {},
   "outputs": [],
   "source": [
    "So we got a dataclass based on a Marshmallow Schema, and take over its validation into another Schema solution!"
   ]
  },
  {
   "cell_type": "markdown",
   "metadata": {},
   "source": [
    "## Conclusion"
   ]
  },
  {
   "cell_type": "markdown",
   "metadata": {},
   "source": [
    "Using a Schema through the protocol is not easier than using its standard API. However, if a schema needs to refer to another schema from another solution, interoperability becomes key. Adoptions to existing Schema solutions require some compromise; a Schema solution developed to adhere to the protocol will be much smoother. "
   ]
  }
 ],
 "metadata": {
  "kernelspec": {
   "display_name": "Python 3",
   "language": "python",
   "name": "python3"
  },
  "language_info": {
   "codemirror_mode": {
    "name": "ipython",
    "version": 3
   },
   "file_extension": ".py",
   "mimetype": "text/x-python",
   "name": "python",
   "nbconvert_exporter": "python",
   "pygments_lexer": "ipython3",
   "version": "3.8.1-final"
  }
 },
 "nbformat": 4,
 "nbformat_minor": 2
}